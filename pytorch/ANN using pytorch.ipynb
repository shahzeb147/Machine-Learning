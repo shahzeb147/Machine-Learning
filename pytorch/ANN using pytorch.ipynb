{
 "cells": [
  {
   "cell_type": "code",
   "execution_count": 1,
   "id": "1c31d1de-d3fe-4bdb-aab5-b598519f267a",
   "metadata": {},
   "outputs": [
    {
     "name": "stderr",
     "output_type": "stream",
     "text": [
      "/Users/muhammadshahzebali/myenv/lib/python3.12/site-packages/tqdm/auto.py:21: TqdmWarning: IProgress not found. Please update jupyter and ipywidgets. See https://ipywidgets.readthedocs.io/en/stable/user_install.html\n",
      "  from .autonotebook import tqdm as notebook_tqdm\n"
     ]
    },
    {
     "data": {
      "text/html": [
       "\n",
       "            <div>\n",
       "                <ins><a href=\"https://ydata.ai/register\">Upgrade to ydata-sdk</a></ins>\n",
       "                <p>\n",
       "                    Improve your data and profiling with ydata-sdk, featuring data quality scoring, redundancy detection, outlier identification, text validation, and synthetic data generation.\n",
       "                </p>\n",
       "            </div>\n",
       "            "
      ],
      "text/plain": [
       "<IPython.core.display.HTML object>"
      ]
     },
     "metadata": {},
     "output_type": "display_data"
    }
   ],
   "source": [
    "import pandas as pd\n",
    "from sklearn.model_selection import train_test_split\n",
    "import torch\n",
    "from torch.utils.data import Dataset, DataLoader\n",
    "import torch.nn as nn\n",
    "import torch.optim as optim\n",
    "import matplotlib.pyplot as plt\n",
    "from ydata_profiling import ProfileReport"
   ]
  },
  {
   "cell_type": "code",
   "execution_count": 2,
   "id": "820974ef-3663-430e-9937-3dd4d722de54",
   "metadata": {},
   "outputs": [
    {
     "data": {
      "text/plain": [
       "<torch._C.Generator at 0x151579f30>"
      ]
     },
     "execution_count": 2,
     "metadata": {},
     "output_type": "execute_result"
    }
   ],
   "source": [
    "# Set random seeds for reproducibility\n",
    "torch.manual_seed(42)"
   ]
  },
  {
   "cell_type": "code",
   "execution_count": 3,
   "id": "b9fa058e-158d-47b5-b9d6-ca7bef8ff966",
   "metadata": {},
   "outputs": [
    {
     "data": {
      "text/html": [
       "<div>\n",
       "<style scoped>\n",
       "    .dataframe tbody tr th:only-of-type {\n",
       "        vertical-align: middle;\n",
       "    }\n",
       "\n",
       "    .dataframe tbody tr th {\n",
       "        vertical-align: top;\n",
       "    }\n",
       "\n",
       "    .dataframe thead th {\n",
       "        text-align: right;\n",
       "    }\n",
       "</style>\n",
       "<table border=\"1\" class=\"dataframe\">\n",
       "  <thead>\n",
       "    <tr style=\"text-align: right;\">\n",
       "      <th></th>\n",
       "      <th>label</th>\n",
       "      <th>pixel1</th>\n",
       "      <th>pixel2</th>\n",
       "      <th>pixel3</th>\n",
       "      <th>pixel4</th>\n",
       "      <th>pixel5</th>\n",
       "      <th>pixel6</th>\n",
       "      <th>pixel7</th>\n",
       "      <th>pixel8</th>\n",
       "      <th>pixel9</th>\n",
       "      <th>...</th>\n",
       "      <th>pixel775</th>\n",
       "      <th>pixel776</th>\n",
       "      <th>pixel777</th>\n",
       "      <th>pixel778</th>\n",
       "      <th>pixel779</th>\n",
       "      <th>pixel780</th>\n",
       "      <th>pixel781</th>\n",
       "      <th>pixel782</th>\n",
       "      <th>pixel783</th>\n",
       "      <th>pixel784</th>\n",
       "    </tr>\n",
       "  </thead>\n",
       "  <tbody>\n",
       "    <tr>\n",
       "      <th>0</th>\n",
       "      <td>9</td>\n",
       "      <td>0</td>\n",
       "      <td>0</td>\n",
       "      <td>0</td>\n",
       "      <td>0</td>\n",
       "      <td>0</td>\n",
       "      <td>0</td>\n",
       "      <td>0</td>\n",
       "      <td>0</td>\n",
       "      <td>0</td>\n",
       "      <td>...</td>\n",
       "      <td>0</td>\n",
       "      <td>7</td>\n",
       "      <td>0</td>\n",
       "      <td>50</td>\n",
       "      <td>205</td>\n",
       "      <td>196</td>\n",
       "      <td>213</td>\n",
       "      <td>165</td>\n",
       "      <td>0</td>\n",
       "      <td>0</td>\n",
       "    </tr>\n",
       "    <tr>\n",
       "      <th>1</th>\n",
       "      <td>7</td>\n",
       "      <td>0</td>\n",
       "      <td>0</td>\n",
       "      <td>0</td>\n",
       "      <td>0</td>\n",
       "      <td>0</td>\n",
       "      <td>0</td>\n",
       "      <td>0</td>\n",
       "      <td>0</td>\n",
       "      <td>0</td>\n",
       "      <td>...</td>\n",
       "      <td>0</td>\n",
       "      <td>0</td>\n",
       "      <td>0</td>\n",
       "      <td>0</td>\n",
       "      <td>0</td>\n",
       "      <td>0</td>\n",
       "      <td>0</td>\n",
       "      <td>0</td>\n",
       "      <td>0</td>\n",
       "      <td>0</td>\n",
       "    </tr>\n",
       "    <tr>\n",
       "      <th>2</th>\n",
       "      <td>0</td>\n",
       "      <td>0</td>\n",
       "      <td>0</td>\n",
       "      <td>0</td>\n",
       "      <td>0</td>\n",
       "      <td>0</td>\n",
       "      <td>1</td>\n",
       "      <td>0</td>\n",
       "      <td>0</td>\n",
       "      <td>0</td>\n",
       "      <td>...</td>\n",
       "      <td>142</td>\n",
       "      <td>142</td>\n",
       "      <td>142</td>\n",
       "      <td>21</td>\n",
       "      <td>0</td>\n",
       "      <td>3</td>\n",
       "      <td>0</td>\n",
       "      <td>0</td>\n",
       "      <td>0</td>\n",
       "      <td>0</td>\n",
       "    </tr>\n",
       "    <tr>\n",
       "      <th>3</th>\n",
       "      <td>8</td>\n",
       "      <td>0</td>\n",
       "      <td>0</td>\n",
       "      <td>0</td>\n",
       "      <td>0</td>\n",
       "      <td>0</td>\n",
       "      <td>0</td>\n",
       "      <td>0</td>\n",
       "      <td>0</td>\n",
       "      <td>0</td>\n",
       "      <td>...</td>\n",
       "      <td>0</td>\n",
       "      <td>0</td>\n",
       "      <td>0</td>\n",
       "      <td>0</td>\n",
       "      <td>0</td>\n",
       "      <td>0</td>\n",
       "      <td>0</td>\n",
       "      <td>0</td>\n",
       "      <td>0</td>\n",
       "      <td>0</td>\n",
       "    </tr>\n",
       "    <tr>\n",
       "      <th>4</th>\n",
       "      <td>8</td>\n",
       "      <td>0</td>\n",
       "      <td>0</td>\n",
       "      <td>0</td>\n",
       "      <td>0</td>\n",
       "      <td>0</td>\n",
       "      <td>0</td>\n",
       "      <td>0</td>\n",
       "      <td>0</td>\n",
       "      <td>0</td>\n",
       "      <td>...</td>\n",
       "      <td>213</td>\n",
       "      <td>203</td>\n",
       "      <td>174</td>\n",
       "      <td>151</td>\n",
       "      <td>188</td>\n",
       "      <td>10</td>\n",
       "      <td>0</td>\n",
       "      <td>0</td>\n",
       "      <td>0</td>\n",
       "      <td>0</td>\n",
       "    </tr>\n",
       "  </tbody>\n",
       "</table>\n",
       "<p>5 rows × 785 columns</p>\n",
       "</div>"
      ],
      "text/plain": [
       "   label  pixel1  pixel2  pixel3  pixel4  pixel5  pixel6  pixel7  pixel8  \\\n",
       "0      9       0       0       0       0       0       0       0       0   \n",
       "1      7       0       0       0       0       0       0       0       0   \n",
       "2      0       0       0       0       0       0       1       0       0   \n",
       "3      8       0       0       0       0       0       0       0       0   \n",
       "4      8       0       0       0       0       0       0       0       0   \n",
       "\n",
       "   pixel9  ...  pixel775  pixel776  pixel777  pixel778  pixel779  pixel780  \\\n",
       "0       0  ...         0         7         0        50       205       196   \n",
       "1       0  ...         0         0         0         0         0         0   \n",
       "2       0  ...       142       142       142        21         0         3   \n",
       "3       0  ...         0         0         0         0         0         0   \n",
       "4       0  ...       213       203       174       151       188        10   \n",
       "\n",
       "   pixel781  pixel782  pixel783  pixel784  \n",
       "0       213       165         0         0  \n",
       "1         0         0         0         0  \n",
       "2         0         0         0         0  \n",
       "3         0         0         0         0  \n",
       "4         0         0         0         0  \n",
       "\n",
       "[5 rows x 785 columns]"
      ]
     },
     "execution_count": 3,
     "metadata": {},
     "output_type": "execute_result"
    }
   ],
   "source": [
    "df = pd.read_csv('fmnist_small.csv')\n",
    "df.head()"
   ]
  },
  {
   "cell_type": "code",
   "execution_count": 4,
   "id": "21b9ae5e-9931-4813-9259-fda96b12d3cb",
   "metadata": {},
   "outputs": [
    {
     "data": {
      "text/html": [
       "<div>\n",
       "<style scoped>\n",
       "    .dataframe tbody tr th:only-of-type {\n",
       "        vertical-align: middle;\n",
       "    }\n",
       "\n",
       "    .dataframe tbody tr th {\n",
       "        vertical-align: top;\n",
       "    }\n",
       "\n",
       "    .dataframe thead th {\n",
       "        text-align: right;\n",
       "    }\n",
       "</style>\n",
       "<table border=\"1\" class=\"dataframe\">\n",
       "  <thead>\n",
       "    <tr style=\"text-align: right;\">\n",
       "      <th></th>\n",
       "      <th>label</th>\n",
       "      <th>pixel1</th>\n",
       "      <th>pixel2</th>\n",
       "      <th>pixel3</th>\n",
       "      <th>pixel4</th>\n",
       "      <th>pixel5</th>\n",
       "      <th>pixel6</th>\n",
       "      <th>pixel7</th>\n",
       "      <th>pixel8</th>\n",
       "      <th>pixel9</th>\n",
       "      <th>...</th>\n",
       "      <th>pixel775</th>\n",
       "      <th>pixel776</th>\n",
       "      <th>pixel777</th>\n",
       "      <th>pixel778</th>\n",
       "      <th>pixel779</th>\n",
       "      <th>pixel780</th>\n",
       "      <th>pixel781</th>\n",
       "      <th>pixel782</th>\n",
       "      <th>pixel783</th>\n",
       "      <th>pixel784</th>\n",
       "    </tr>\n",
       "  </thead>\n",
       "  <tbody>\n",
       "    <tr>\n",
       "      <th>count</th>\n",
       "      <td>6000.000000</td>\n",
       "      <td>6000.0</td>\n",
       "      <td>6000.000000</td>\n",
       "      <td>6000.000000</td>\n",
       "      <td>6000.000000</td>\n",
       "      <td>6000.000000</td>\n",
       "      <td>6000.000000</td>\n",
       "      <td>6000.000000</td>\n",
       "      <td>6000.000000</td>\n",
       "      <td>6000.000000</td>\n",
       "      <td>...</td>\n",
       "      <td>6000.000000</td>\n",
       "      <td>6000.000000</td>\n",
       "      <td>6000.000000</td>\n",
       "      <td>6000.000000</td>\n",
       "      <td>6000.000000</td>\n",
       "      <td>6000.000000</td>\n",
       "      <td>6000.000000</td>\n",
       "      <td>6000.000000</td>\n",
       "      <td>6000.000000</td>\n",
       "      <td>6000.00000</td>\n",
       "    </tr>\n",
       "    <tr>\n",
       "      <th>mean</th>\n",
       "      <td>4.489667</td>\n",
       "      <td>0.0</td>\n",
       "      <td>0.003333</td>\n",
       "      <td>0.022833</td>\n",
       "      <td>0.095833</td>\n",
       "      <td>0.229667</td>\n",
       "      <td>0.380833</td>\n",
       "      <td>0.815000</td>\n",
       "      <td>2.040500</td>\n",
       "      <td>5.851500</td>\n",
       "      <td>...</td>\n",
       "      <td>34.411500</td>\n",
       "      <td>23.410833</td>\n",
       "      <td>16.781833</td>\n",
       "      <td>18.320167</td>\n",
       "      <td>23.820167</td>\n",
       "      <td>18.936833</td>\n",
       "      <td>9.157167</td>\n",
       "      <td>2.783833</td>\n",
       "      <td>0.903833</td>\n",
       "      <td>0.09300</td>\n",
       "    </tr>\n",
       "    <tr>\n",
       "      <th>std</th>\n",
       "      <td>2.840464</td>\n",
       "      <td>0.0</td>\n",
       "      <td>0.075210</td>\n",
       "      <td>0.457180</td>\n",
       "      <td>2.494464</td>\n",
       "      <td>4.855634</td>\n",
       "      <td>5.883755</td>\n",
       "      <td>8.964309</td>\n",
       "      <td>13.320114</td>\n",
       "      <td>24.088175</td>\n",
       "      <td>...</td>\n",
       "      <td>57.150747</td>\n",
       "      <td>48.769483</td>\n",
       "      <td>42.327168</td>\n",
       "      <td>44.743938</td>\n",
       "      <td>53.096607</td>\n",
       "      <td>46.870204</td>\n",
       "      <td>31.205610</td>\n",
       "      <td>17.486349</td>\n",
       "      <td>9.630180</td>\n",
       "      <td>2.54508</td>\n",
       "    </tr>\n",
       "    <tr>\n",
       "      <th>min</th>\n",
       "      <td>0.000000</td>\n",
       "      <td>0.0</td>\n",
       "      <td>0.000000</td>\n",
       "      <td>0.000000</td>\n",
       "      <td>0.000000</td>\n",
       "      <td>0.000000</td>\n",
       "      <td>0.000000</td>\n",
       "      <td>0.000000</td>\n",
       "      <td>0.000000</td>\n",
       "      <td>0.000000</td>\n",
       "      <td>...</td>\n",
       "      <td>0.000000</td>\n",
       "      <td>0.000000</td>\n",
       "      <td>0.000000</td>\n",
       "      <td>0.000000</td>\n",
       "      <td>0.000000</td>\n",
       "      <td>0.000000</td>\n",
       "      <td>0.000000</td>\n",
       "      <td>0.000000</td>\n",
       "      <td>0.000000</td>\n",
       "      <td>0.00000</td>\n",
       "    </tr>\n",
       "    <tr>\n",
       "      <th>25%</th>\n",
       "      <td>2.000000</td>\n",
       "      <td>0.0</td>\n",
       "      <td>0.000000</td>\n",
       "      <td>0.000000</td>\n",
       "      <td>0.000000</td>\n",
       "      <td>0.000000</td>\n",
       "      <td>0.000000</td>\n",
       "      <td>0.000000</td>\n",
       "      <td>0.000000</td>\n",
       "      <td>0.000000</td>\n",
       "      <td>...</td>\n",
       "      <td>0.000000</td>\n",
       "      <td>0.000000</td>\n",
       "      <td>0.000000</td>\n",
       "      <td>0.000000</td>\n",
       "      <td>0.000000</td>\n",
       "      <td>0.000000</td>\n",
       "      <td>0.000000</td>\n",
       "      <td>0.000000</td>\n",
       "      <td>0.000000</td>\n",
       "      <td>0.00000</td>\n",
       "    </tr>\n",
       "    <tr>\n",
       "      <th>50%</th>\n",
       "      <td>5.000000</td>\n",
       "      <td>0.0</td>\n",
       "      <td>0.000000</td>\n",
       "      <td>0.000000</td>\n",
       "      <td>0.000000</td>\n",
       "      <td>0.000000</td>\n",
       "      <td>0.000000</td>\n",
       "      <td>0.000000</td>\n",
       "      <td>0.000000</td>\n",
       "      <td>0.000000</td>\n",
       "      <td>...</td>\n",
       "      <td>0.000000</td>\n",
       "      <td>0.000000</td>\n",
       "      <td>0.000000</td>\n",
       "      <td>0.000000</td>\n",
       "      <td>0.000000</td>\n",
       "      <td>0.000000</td>\n",
       "      <td>0.000000</td>\n",
       "      <td>0.000000</td>\n",
       "      <td>0.000000</td>\n",
       "      <td>0.00000</td>\n",
       "    </tr>\n",
       "    <tr>\n",
       "      <th>75%</th>\n",
       "      <td>7.000000</td>\n",
       "      <td>0.0</td>\n",
       "      <td>0.000000</td>\n",
       "      <td>0.000000</td>\n",
       "      <td>0.000000</td>\n",
       "      <td>0.000000</td>\n",
       "      <td>0.000000</td>\n",
       "      <td>0.000000</td>\n",
       "      <td>0.000000</td>\n",
       "      <td>0.000000</td>\n",
       "      <td>...</td>\n",
       "      <td>59.000000</td>\n",
       "      <td>8.250000</td>\n",
       "      <td>0.000000</td>\n",
       "      <td>0.000000</td>\n",
       "      <td>1.000000</td>\n",
       "      <td>0.000000</td>\n",
       "      <td>0.000000</td>\n",
       "      <td>0.000000</td>\n",
       "      <td>0.000000</td>\n",
       "      <td>0.00000</td>\n",
       "    </tr>\n",
       "    <tr>\n",
       "      <th>max</th>\n",
       "      <td>9.000000</td>\n",
       "      <td>0.0</td>\n",
       "      <td>3.000000</td>\n",
       "      <td>32.000000</td>\n",
       "      <td>146.000000</td>\n",
       "      <td>224.000000</td>\n",
       "      <td>213.000000</td>\n",
       "      <td>221.000000</td>\n",
       "      <td>221.000000</td>\n",
       "      <td>222.000000</td>\n",
       "      <td>...</td>\n",
       "      <td>255.000000</td>\n",
       "      <td>249.000000</td>\n",
       "      <td>255.000000</td>\n",
       "      <td>255.000000</td>\n",
       "      <td>254.000000</td>\n",
       "      <td>255.000000</td>\n",
       "      <td>248.000000</td>\n",
       "      <td>255.000000</td>\n",
       "      <td>192.000000</td>\n",
       "      <td>97.00000</td>\n",
       "    </tr>\n",
       "  </tbody>\n",
       "</table>\n",
       "<p>8 rows × 785 columns</p>\n",
       "</div>"
      ],
      "text/plain": [
       "             label  pixel1       pixel2       pixel3       pixel4  \\\n",
       "count  6000.000000  6000.0  6000.000000  6000.000000  6000.000000   \n",
       "mean      4.489667     0.0     0.003333     0.022833     0.095833   \n",
       "std       2.840464     0.0     0.075210     0.457180     2.494464   \n",
       "min       0.000000     0.0     0.000000     0.000000     0.000000   \n",
       "25%       2.000000     0.0     0.000000     0.000000     0.000000   \n",
       "50%       5.000000     0.0     0.000000     0.000000     0.000000   \n",
       "75%       7.000000     0.0     0.000000     0.000000     0.000000   \n",
       "max       9.000000     0.0     3.000000    32.000000   146.000000   \n",
       "\n",
       "            pixel5       pixel6       pixel7       pixel8       pixel9  ...  \\\n",
       "count  6000.000000  6000.000000  6000.000000  6000.000000  6000.000000  ...   \n",
       "mean      0.229667     0.380833     0.815000     2.040500     5.851500  ...   \n",
       "std       4.855634     5.883755     8.964309    13.320114    24.088175  ...   \n",
       "min       0.000000     0.000000     0.000000     0.000000     0.000000  ...   \n",
       "25%       0.000000     0.000000     0.000000     0.000000     0.000000  ...   \n",
       "50%       0.000000     0.000000     0.000000     0.000000     0.000000  ...   \n",
       "75%       0.000000     0.000000     0.000000     0.000000     0.000000  ...   \n",
       "max     224.000000   213.000000   221.000000   221.000000   222.000000  ...   \n",
       "\n",
       "          pixel775     pixel776     pixel777     pixel778     pixel779  \\\n",
       "count  6000.000000  6000.000000  6000.000000  6000.000000  6000.000000   \n",
       "mean     34.411500    23.410833    16.781833    18.320167    23.820167   \n",
       "std      57.150747    48.769483    42.327168    44.743938    53.096607   \n",
       "min       0.000000     0.000000     0.000000     0.000000     0.000000   \n",
       "25%       0.000000     0.000000     0.000000     0.000000     0.000000   \n",
       "50%       0.000000     0.000000     0.000000     0.000000     0.000000   \n",
       "75%      59.000000     8.250000     0.000000     0.000000     1.000000   \n",
       "max     255.000000   249.000000   255.000000   255.000000   254.000000   \n",
       "\n",
       "          pixel780     pixel781     pixel782     pixel783    pixel784  \n",
       "count  6000.000000  6000.000000  6000.000000  6000.000000  6000.00000  \n",
       "mean     18.936833     9.157167     2.783833     0.903833     0.09300  \n",
       "std      46.870204    31.205610    17.486349     9.630180     2.54508  \n",
       "min       0.000000     0.000000     0.000000     0.000000     0.00000  \n",
       "25%       0.000000     0.000000     0.000000     0.000000     0.00000  \n",
       "50%       0.000000     0.000000     0.000000     0.000000     0.00000  \n",
       "75%       0.000000     0.000000     0.000000     0.000000     0.00000  \n",
       "max     255.000000   248.000000   255.000000   192.000000    97.00000  \n",
       "\n",
       "[8 rows x 785 columns]"
      ]
     },
     "execution_count": 4,
     "metadata": {},
     "output_type": "execute_result"
    }
   ],
   "source": [
    "df.describe()"
   ]
  },
  {
   "cell_type": "code",
   "execution_count": 5,
   "id": "168a5ced-900f-49a5-a91c-6f135f7a743e",
   "metadata": {},
   "outputs": [
    {
     "data": {
      "text/plain": [
       "(6000, 785)"
      ]
     },
     "execution_count": 5,
     "metadata": {},
     "output_type": "execute_result"
    }
   ],
   "source": [
    "df.shape"
   ]
  },
  {
   "cell_type": "code",
   "execution_count": 6,
   "id": "aef98b51-ca07-4dd9-8cf5-0d2452be174b",
   "metadata": {},
   "outputs": [],
   "source": [
    "#report = ProfileReport(df, title = \"mnist data\")\n",
    "#report.to_file(\"initial.html\")"
   ]
  },
  {
   "cell_type": "code",
   "execution_count": 7,
   "id": "492b71a0-1055-421e-8258-4a1ddb5111ec",
   "metadata": {},
   "outputs": [
    {
     "data": {
      "text/plain": [
       "<Axes: >"
      ]
     },
     "execution_count": 7,
     "metadata": {},
     "output_type": "execute_result"
    },
    {
     "data": {
      "image/png": "[encoded data removed]",
      "text/plain": [
       "<Figure size 640x480 with 1 Axes>"
      ]
     },
     "metadata": {},
     "output_type": "display_data"
    }
   ],
   "source": [
    "df['label'].hist()"
   ]
  },
  {
   "cell_type": "code",
   "execution_count": 8,
   "id": "d7a21c6f-76e7-41d8-ae23-ff7216efb31d",
   "metadata": {},
   "outputs": [
    {
     "data": {
      "image/png": "[encoded data removed]",
      "text/plain": [
       "<Figure size 1000x1000 with 16 Axes>"
      ]
     },
     "metadata": {},
     "output_type": "display_data"
    }
   ],
   "source": [
    "# Create a 4x4 grid of images\n",
    "fig, axes = plt.subplots(4, 4, figsize=(10, 10))\n",
    "fig.suptitle(\"First 16 Images\", fontsize=16)\n",
    "\n",
    "# Plot the first 16 images from the dataset\n",
    "for i, ax in enumerate(axes.flat):\n",
    "    img = df.iloc[i, 1:].values.reshape(28, 28)  # Reshape to 28x28\n",
    "    ax.imshow(img)  # Display in grayscale\n",
    "    ax.axis('off')  # Remove axis for a cleaner look\n",
    "    ax.set_title(f\"Label: {df.iloc[i, 0]}\")  # Show the label\n",
    "\n",
    "plt.tight_layout(rect=[0, 0, 1, 0.96])  # Adjust layout to fit the title\n",
    "plt.show()"
   ]
  },
  {
   "cell_type": "code",
   "execution_count": 9,
   "id": "89c90ff5-9b2c-4a58-bb6c-c266021c071f",
   "metadata": {},
   "outputs": [],
   "source": [
    "X = df.iloc[:, 1:].values\n",
    "y= df.iloc[:,0].values\n"
   ]
  },
  {
   "cell_type": "code",
   "execution_count": 10,
   "id": "b794fc3a-e65d-4ad5-8c48-bc60c7e2322d",
   "metadata": {},
   "outputs": [],
   "source": [
    "X_train, X_test, y_train, y_test = train_test_split(X, y, test_size=0.2, random_state=42)"
   ]
  },
  {
   "cell_type": "code",
   "execution_count": 11,
   "id": "64af6206-4eec-4845-8a34-a2a10a11abf8",
   "metadata": {},
   "outputs": [],
   "source": [
    "# scaling the feautures\n",
    "X_train = X_train/255.0\n",
    "X_test = X_test/255.0 # Since we have 255 pixels in a image so we divide by 255 to scale"
   ]
  },
  {
   "cell_type": "markdown",
   "id": "11f4c923-7ba6-4e7c-ada7-37080dd85798",
   "metadata": {},
   "source": [
    "# Create a custom data class"
   ]
  },
  {
   "cell_type": "code",
   "execution_count": 12,
   "id": "6e685291-ec54-4984-8db4-5231731591b9",
   "metadata": {},
   "outputs": [],
   "source": [
    "# create CustomDataset Class\n",
    "class CustomDataset(Dataset):\n",
    "\n",
    "  def __init__(self, features, labels):\n",
    "\n",
    "    self.features = torch.tensor(features, dtype=torch.float32)\n",
    "    self.labels = torch.tensor(labels, dtype=torch.long)\n",
    "\n",
    "  def __len__(self):\n",
    "\n",
    "    return len(self.features)\n",
    "\n",
    "  def __getitem__(self, index):\n",
    "\n",
    "    return self.features[index], self.labels[index]"
   ]
  },
  {
   "cell_type": "markdown",
   "id": "9c69c01c-b538-48f4-8bcb-cd07540f12a0",
   "metadata": {},
   "source": [
    "# Create train dataset object"
   ]
  },
  {
   "cell_type": "code",
   "execution_count": 13,
   "id": "5207f028-558d-4000-9dce-b8109e5a4702",
   "metadata": {},
   "outputs": [],
   "source": [
    "train_dataset = CustomDataset(X_train, y_train) # this will extract data from above class"
   ]
  },
  {
   "cell_type": "code",
   "execution_count": 14,
   "id": "4c65d6cf-4e26-40f2-82e6-9840ba6f4ca8",
   "metadata": {},
   "outputs": [
    {
     "data": {
      "text/plain": [
       "4800"
      ]
     },
     "execution_count": 14,
     "metadata": {},
     "output_type": "execute_result"
    }
   ],
   "source": [
    "len(train_dataset)"
   ]
  },
  {
   "cell_type": "code",
   "execution_count": 15,
   "id": "25353977-25c6-4679-85e8-4c9eea8c458c",
   "metadata": {},
   "outputs": [],
   "source": [
    "test_dataset = CustomDataset(X_test, y_test)"
   ]
  },
  {
   "cell_type": "code",
   "execution_count": 16,
   "id": "712f3717-ac48-4f4d-b54a-46f8ac9634ac",
   "metadata": {},
   "outputs": [
    {
     "data": {
      "text/plain": [
       "1200"
      ]
     },
     "execution_count": 16,
     "metadata": {},
     "output_type": "execute_result"
    }
   ],
   "source": [
    "len(test_dataset)"
   ]
  },
  {
   "cell_type": "markdown",
   "id": "0d129f8d-9253-448c-b329-d1dd76598bdb",
   "metadata": {},
   "source": [
    "# Create train and test loader"
   ]
  },
  {
   "cell_type": "code",
   "execution_count": 17,
   "id": "d5551758-c0e4-47c3-abdd-678e8f3fb8eb",
   "metadata": {},
   "outputs": [],
   "source": [
    "train_loader = DataLoader(train_dataset, batch_size=32, shuffle=True)\n",
    "test_loader = DataLoader(test_dataset, batch_size=32, shuffle=False)"
   ]
  },
  {
   "cell_type": "markdown",
   "id": "b05193f3-fd26-44e4-9551-029349e7f1f0",
   "metadata": {},
   "source": [
    "# Define NN class"
   ]
  },
  {
   "cell_type": "code",
   "execution_count": 18,
   "id": "96f9c85a-234b-4d0e-8a18-fbcc9b6d94cd",
   "metadata": {},
   "outputs": [],
   "source": [
    "# define NN class\n",
    "\n",
    "class MyNN(nn.Module):\n",
    "\n",
    "  def __init__(self, num_features):\n",
    "\n",
    "    super().__init__()\n",
    "    self.model = nn.Sequential(\n",
    "        nn.Linear(num_features, 128),\n",
    "        nn.ReLU(),\n",
    "        nn.Dropout(p= 0.5),\n",
    "        nn.Linear(128, 64),\n",
    "        nn.ReLU(),\n",
    "        nn.Dropout(p= 0.5),\n",
    "        \n",
    "        nn.Linear(64, 10)\n",
    "    )\n",
    "\n",
    "  def forward(self, x):\n",
    "\n",
    "    return self.model(x)"
   ]
  },
  {
   "cell_type": "code",
   "execution_count": 19,
   "id": "68f71717-2bad-46af-985e-a41cc9f21e12",
   "metadata": {},
   "outputs": [],
   "source": [
    "# set learning rate and epochs\n",
    "epochs = 100\n",
    "learning_rate = 0.1"
   ]
  },
  {
   "cell_type": "code",
   "execution_count": 20,
   "id": "008cda29-8141-405b-b04e-951eba56b9ff",
   "metadata": {},
   "outputs": [
    {
     "data": {
      "text/plain": [
       "(4800, 784)"
      ]
     },
     "execution_count": 20,
     "metadata": {},
     "output_type": "execute_result"
    }
   ],
   "source": [
    "X_train.shape"
   ]
  },
  {
   "cell_type": "markdown",
   "id": "46bba163-5d6d-43bc-9769-f9a20d1b4f3b",
   "metadata": {},
   "source": [
    "# Instatite the model"
   ]
  },
  {
   "cell_type": "code",
   "execution_count": 21,
   "id": "aef58960-bcd4-486f-a86a-73c6e2f4d0f3",
   "metadata": {},
   "outputs": [],
   "source": [
    "model = MyNN(X_train.shape[1])\n",
    "\n",
    "## loss function\n",
    "\n",
    "criterion = nn.CrossEntropyLoss()\n",
    "\n",
    "# optimizer\n",
    "\n",
    "optimizer = optim.SGD(model.parameters(), lr = learning_rate)"
   ]
  },
  {
   "cell_type": "code",
   "execution_count": 22,
   "id": "d56d7dd8-85d9-49ec-9c78-6bfc12043f8a",
   "metadata": {},
   "outputs": [
    {
     "data": {
      "text/plain": [
       "150"
      ]
     },
     "execution_count": 22,
     "metadata": {},
     "output_type": "execute_result"
    }
   ],
   "source": [
    "len(train_loader) # we have 150 batches"
   ]
  },
  {
   "cell_type": "markdown",
   "id": "a67e1333-0c93-4843-9436-52fb957b696e",
   "metadata": {},
   "source": [
    "# Training loop"
   ]
  },
  {
   "cell_type": "code",
   "execution_count": 23,
   "id": "fbefa380-99b6-49a9-87ee-0dfaeb245c82",
   "metadata": {},
   "outputs": [
    {
     "name": "stdout",
     "output_type": "stream",
     "text": [
      "Epoch: 1 , Loss: 1.459214733839035\n",
      "Epoch: 2 , Loss: 0.9097739108403524\n",
      "Epoch: 3 , Loss: 0.7812021692593892\n",
      "Epoch: 4 , Loss: 0.7018024071057638\n",
      "Epoch: 5 , Loss: 0.65477840701739\n",
      "Epoch: 6 , Loss: 0.6045099457105001\n",
      "Epoch: 7 , Loss: 0.5788602761427561\n",
      "Epoch: 8 , Loss: 0.5522429621219636\n",
      "Epoch: 9 , Loss: 0.5387655323743821\n",
      "Epoch: 10 , Loss: 0.5191506525874138\n",
      "Epoch: 11 , Loss: 0.503731726706028\n",
      "Epoch: 12 , Loss: 0.48370285749435427\n",
      "Epoch: 13 , Loss: 0.4733843003710111\n",
      "Epoch: 14 , Loss: 0.463603916366895\n",
      "Epoch: 15 , Loss: 0.449946837524573\n",
      "Epoch: 16 , Loss: 0.436974123219649\n",
      "Epoch: 17 , Loss: 0.42355805983146033\n",
      "Epoch: 18 , Loss: 0.4095368349552155\n",
      "Epoch: 19 , Loss: 0.40888302693764367\n",
      "Epoch: 20 , Loss: 0.40783421948552134\n",
      "Epoch: 21 , Loss: 0.3727288146317005\n",
      "Epoch: 22 , Loss: 0.37999037767450017\n",
      "Epoch: 23 , Loss: 0.36569554249445596\n",
      "Epoch: 24 , Loss: 0.35117790604631105\n",
      "Epoch: 25 , Loss: 0.3542820476492246\n",
      "Epoch: 26 , Loss: 0.34636010413368545\n",
      "Epoch: 27 , Loss: 0.335212162733078\n",
      "Epoch: 28 , Loss: 0.3414937621106704\n",
      "Epoch: 29 , Loss: 0.33199517488479613\n",
      "Epoch: 30 , Loss: 0.3288567494849364\n",
      "Epoch: 31 , Loss: 0.3359530969460805\n",
      "Epoch: 32 , Loss: 0.31850857789317766\n",
      "Epoch: 33 , Loss: 0.317635532990098\n",
      "Epoch: 34 , Loss: 0.3146390529473623\n",
      "Epoch: 35 , Loss: 0.3033352303008238\n",
      "Epoch: 36 , Loss: 0.3053533754249414\n",
      "Epoch: 37 , Loss: 0.30902167287965615\n",
      "Epoch: 38 , Loss: 0.2964368123561144\n",
      "Epoch: 39 , Loss: 0.2988725159565608\n",
      "Epoch: 40 , Loss: 0.2929997039834658\n",
      "Epoch: 41 , Loss: 0.2889189707984527\n",
      "Epoch: 42 , Loss: 0.2708992126087348\n",
      "Epoch: 43 , Loss: 0.2678343957662582\n",
      "Epoch: 44 , Loss: 0.27384659809370837\n",
      "Epoch: 45 , Loss: 0.27009879459937414\n",
      "Epoch: 46 , Loss: 0.2695504250625769\n",
      "Epoch: 47 , Loss: 0.2559675319865346\n",
      "Epoch: 48 , Loss: 0.2561760973930359\n",
      "Epoch: 49 , Loss: 0.2543596615145604\n",
      "Epoch: 50 , Loss: 0.24980173031489053\n",
      "Epoch: 51 , Loss: 0.2392167789240678\n",
      "Epoch: 52 , Loss: 0.24725866933663687\n",
      "Epoch: 53 , Loss: 0.23417793473849693\n",
      "Epoch: 54 , Loss: 0.24437460951507092\n",
      "Epoch: 55 , Loss: 0.23749643839895726\n",
      "Epoch: 56 , Loss: 0.24070090939601263\n",
      "Epoch: 57 , Loss: 0.23722258694469928\n",
      "Epoch: 58 , Loss: 0.23629067848126092\n",
      "Epoch: 59 , Loss: 0.22390847568710645\n",
      "Epoch: 60 , Loss: 0.21776951268315314\n",
      "Epoch: 61 , Loss: 0.21368173226714135\n",
      "Epoch: 62 , Loss: 0.2205864203721285\n",
      "Epoch: 63 , Loss: 0.21780071942756574\n",
      "Epoch: 64 , Loss: 0.21329949575165907\n",
      "Epoch: 65 , Loss: 0.22200513139367103\n",
      "Epoch: 66 , Loss: 0.21048942995568118\n",
      "Epoch: 67 , Loss: 0.18324822681645553\n",
      "Epoch: 68 , Loss: 0.21147251055886349\n",
      "Epoch: 69 , Loss: 0.1985141980275512\n",
      "Epoch: 70 , Loss: 0.1979161692907413\n",
      "Epoch: 71 , Loss: 0.2012425871565938\n",
      "Epoch: 72 , Loss: 0.19729164898395538\n",
      "Epoch: 73 , Loss: 0.19160503413528204\n",
      "Epoch: 74 , Loss: 0.18849457738300165\n",
      "Epoch: 75 , Loss: 0.20496694217125574\n",
      "Epoch: 76 , Loss: 0.18709131757418315\n",
      "Epoch: 77 , Loss: 0.1882301071162025\n",
      "Epoch: 78 , Loss: 0.1793810078687966\n",
      "Epoch: 79 , Loss: 0.17811222071448962\n",
      "Epoch: 80 , Loss: 0.17745513755828143\n",
      "Epoch: 81 , Loss: 0.17881867138048013\n",
      "Epoch: 82 , Loss: 0.16973522397379082\n",
      "Epoch: 83 , Loss: 0.1780864596925676\n",
      "Epoch: 84 , Loss: 0.18495921956996123\n",
      "Epoch: 85 , Loss: 0.17929678142691652\n",
      "Epoch: 86 , Loss: 0.17939887297029297\n",
      "Epoch: 87 , Loss: 0.15488706577569247\n",
      "Epoch: 88 , Loss: 0.1778604986394445\n",
      "Epoch: 89 , Loss: 0.17485669794181982\n",
      "Epoch: 90 , Loss: 0.1788369594886899\n",
      "Epoch: 91 , Loss: 0.16318013158626854\n",
      "Epoch: 92 , Loss: 0.16317956621448199\n",
      "Epoch: 93 , Loss: 0.18589631776014964\n",
      "Epoch: 94 , Loss: 0.17128521467248597\n",
      "Epoch: 95 , Loss: 0.1710799671212832\n",
      "Epoch: 96 , Loss: 0.1576359449326992\n",
      "Epoch: 97 , Loss: 0.14717339647933841\n",
      "Epoch: 98 , Loss: 0.15111363265663386\n",
      "Epoch: 99 , Loss: 0.16349529866750043\n",
      "Epoch: 100 , Loss: 0.16270316150039435\n"
     ]
    }
   ],
   "source": [
    "# training loop\n",
    "\n",
    "for epoch in range(epochs): #this loop will run for 100 times\n",
    "\n",
    "  total_epoch_loss = 0\n",
    "\n",
    "  for batch_features, batch_labels in train_loader: #this will loop for 150 times\n",
    "\n",
    "    # forward pass\n",
    "    outputs = model(batch_features) # to calculate y_pred\n",
    "\n",
    "    # calculate loss\n",
    "    loss = criterion(outputs, batch_labels) # y_pred and y_actual\n",
    "\n",
    "    # back pass\n",
    "    optimizer.zero_grad() # to clear your gradients\n",
    "    loss.backward()\n",
    "\n",
    "    # update grads\n",
    "    optimizer.step()\n",
    "\n",
    "    total_epoch_loss = total_epoch_loss + loss.item()\n",
    "\n",
    "  avg_loss = total_epoch_loss/len(train_loader)\n",
    "  print(f'Epoch: {epoch + 1} , Loss: {avg_loss}') # loss on each epoch"
   ]
  },
  {
   "cell_type": "markdown",
   "id": "987e2363-3f30-4571-a33b-807ac2ab950a",
   "metadata": {},
   "source": [
    "# Set model to eval mode"
   ]
  },
  {
   "cell_type": "code",
   "execution_count": 24,
   "id": "0050ac05-7c0e-4c01-8efb-58ba699de219",
   "metadata": {},
   "outputs": [
    {
     "data": {
      "text/plain": [
       "MyNN(\n",
       "  (model): Sequential(\n",
       "    (0): Linear(in_features=784, out_features=128, bias=True)\n",
       "    (1): ReLU()\n",
       "    (2): Dropout(p=0.3, inplace=False)\n",
       "    (3): Linear(in_features=128, out_features=64, bias=True)\n",
       "    (4): ReLU()\n",
       "    (5): Dropout(p=0.3, inplace=False)\n",
       "    (6): Linear(in_features=64, out_features=10, bias=True)\n",
       "  )\n",
       ")"
      ]
     },
     "execution_count": 24,
     "metadata": {},
     "output_type": "execute_result"
    }
   ],
   "source": [
    "model.eval() # this put our model in eval model"
   ]
  },
  {
   "cell_type": "code",
   "execution_count": 25,
   "id": "77c75f92-3f51-460e-85bb-75389b219dd7",
   "metadata": {},
   "outputs": [
    {
     "name": "stdout",
     "output_type": "stream",
     "text": [
      "0.8408333333333333\n"
     ]
    }
   ],
   "source": [
    "# evaluation code for testing data\n",
    "total = 0\n",
    "correct = 0\n",
    "\n",
    "with torch.no_grad():\n",
    "\n",
    "  for batch_features, batch_labels in test_loader:\n",
    "\n",
    "    outputs = model(batch_features)\n",
    "\n",
    "    _, predicted = torch.max(outputs, 1)\n",
    "\n",
    "    total = total + batch_labels.shape[0]\n",
    "\n",
    "    correct = correct + (predicted == batch_labels).sum().item()\n",
    "\n",
    "print(correct/total)"
   ]
  },
  {
   "cell_type": "code",
   "execution_count": 26,
   "id": "0a258989-6596-42f2-bc86-e84165006662",
   "metadata": {},
   "outputs": [
    {
     "name": "stdout",
     "output_type": "stream",
     "text": [
      "0.966875\n"
     ]
    }
   ],
   "source": [
    "# evaluation code for training data\n",
    "# overfitting \n",
    "total = 0\n",
    "correct = 0\n",
    "\n",
    "with torch.no_grad():\n",
    "\n",
    "  for batch_features, batch_labels in train_loader:\n",
    "\n",
    "\n",
    "    outputs = model(batch_features)\n",
    "\n",
    "    _, predicted = torch.max(outputs, 1)\n",
    "\n",
    "    total = total + batch_labels.shape[0]\n",
    "\n",
    "    correct = correct + (predicted == batch_labels).sum().item()\n",
    "\n",
    "print(correct/total)"
   ]
  },
  {
   "cell_type": "markdown",
   "id": "12d0d130-48cf-4bf7-88c4-10f2dc1b5bb8",
   "metadata": {},
   "source": [
    "# improvements to NN"
   ]
  },
  {
   "cell_type": "code",
   "execution_count": null,
   "id": "fe776d03-6939-48d8-a193-e57c6c2faa99",
   "metadata": {},
   "outputs": [],
   "source": []
  }
 ],
 "metadata": {
  "kernelspec": {
   "display_name": "Python (ali)",
   "language": "python",
   "name": "myenv"
  },
  "language_info": {
   "codemirror_mode": {
    "name": "ipython",
    "version": 3
   },
   "file_extension": ".py",
   "mimetype": "text/x-python",
   "name": "python",
   "nbconvert_exporter": "python",
   "pygments_lexer": "ipython3",
   "version": "3.12.6"
  }
 },
 "nbformat": 4,
 "nbformat_minor": 5
}
