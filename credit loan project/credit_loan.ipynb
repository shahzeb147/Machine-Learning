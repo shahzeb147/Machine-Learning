{
 "cells": [
  {
   "cell_type": "code",
   "execution_count": 1,
   "id": "ac04ab8f-2421-4ebf-8afe-fd6982dc40d4",
   "metadata": {},
   "outputs": [
    {
     "name": "stderr",
     "output_type": "stream",
     "text": [
      "/Users/muhammadshahzebali/myenv/lib/python3.12/site-packages/tqdm/auto.py:21: TqdmWarning: IProgress not found. Please update jupyter and ipywidgets. See https://ipywidgets.readthedocs.io/en/stable/user_install.html\n",
      "  from .autonotebook import tqdm as notebook_tqdm\n"
     ]
    },
    {
     "name": "stdout",
     "output_type": "stream",
     "text": [
      "Downloading from https://www.kaggle.com/api/v1/datasets/download/wordsforthewise/lending-club?dataset_version_number=3...\n"
     ]
    },
    {
     "name": "stderr",
     "output_type": "stream",
     "text": [
      "100%|██████████████████████████████████████| 1.26G/1.26G [00:15<00:00, 87.4MB/s]"
     ]
    },
    {
     "name": "stdout",
     "output_type": "stream",
     "text": [
      "Extracting files...\n"
     ]
    },
    {
     "name": "stderr",
     "output_type": "stream",
     "text": [
      "\n"
     ]
    },
    {
     "name": "stdout",
     "output_type": "stream",
     "text": [
      "Path to dataset files: /Users/muhammadshahzebali/.cache/kagglehub/datasets/wordsforthewise/lending-club/versions/3\n"
     ]
    }
   ],
   "source": [
    "#import kagglehub\n",
    "\n",
    "# Download latest version\n",
    "#path = kagglehub.dataset_download(\"wordsforthewise/lending-club\")\n",
    "\n",
    "#print(\"Path to dataset files:\", path)"
   ]
  },
  {
   "cell_type": "code",
   "execution_count": 32,
   "id": "38a049c5-fffa-4905-847f-74d4db23e467",
   "metadata": {},
   "outputs": [
    {
     "name": "stderr",
     "output_type": "stream",
     "text": [
      "/Users/muhammadshahzebali/myenv/lib/python3.12/site-packages/tqdm/auto.py:21: TqdmWarning: IProgress not found. Please update jupyter and ipywidgets. See https://ipywidgets.readthedocs.io/en/stable/user_install.html\n",
      "  from .autonotebook import tqdm as notebook_tqdm\n"
     ]
    },
    {
     "data": {
      "text/html": [
       "\n",
       "            <div>\n",
       "                <ins><a href=\"https://ydata.ai/register\">Upgrade to ydata-sdk</a></ins>\n",
       "                <p>\n",
       "                    Improve your data and profiling with ydata-sdk, featuring data quality scoring, redundancy detection, outlier identification, text validation, and synthetic data generation.\n",
       "                </p>\n",
       "            </div>\n",
       "            "
      ],
      "text/plain": [
       "<IPython.core.display.HTML object>"
      ]
     },
     "metadata": {},
     "output_type": "display_data"
    }
   ],
   "source": [
    "from ydata_profiling import ProfileReport"
   ]
  },
  {
   "cell_type": "code",
   "execution_count": 1,
   "id": "27643587-73e1-49b5-b87d-a814291038f0",
   "metadata": {},
   "outputs": [],
   "source": [
    "import pandas as pd\n",
    "import os\n",
    "\n",
    "# Base path where data is downloaded\n",
    "path = \"/Users/muhammadshahzebali/.cache/kagglehub/datasets/wordsforthewise/lending-club/versions/3\"\n",
    "path = os.path.join(path, 'accepted_2007_to_2018Q4.csv.gz')\n",
    "df = pd.read_csv(path, low_memory=False)"
   ]
  },
  {
   "cell_type": "code",
   "execution_count": 2,
   "id": "0991e8f0-ce53-4797-a844-8402741eb4e5",
   "metadata": {},
   "outputs": [
    {
     "data": {
      "text/plain": [
       "(2260701, 151)"
      ]
     },
     "execution_count": 2,
     "metadata": {},
     "output_type": "execute_result"
    }
   ],
   "source": [
    "df.shape"
   ]
  },
  {
   "cell_type": "markdown",
   "id": "509c557b-88c0-42a7-b4cf-a1e60ff1a2e2",
   "metadata": {},
   "source": [
    "## Check for missig Data"
   ]
  },
  {
   "cell_type": "code",
   "execution_count": 3,
   "id": "df990944-a447-4b68-91a6-e3434b1f6675",
   "metadata": {},
   "outputs": [],
   "source": [
    "check = df.isnull().sum()/len(df)\n",
    "cols = check[check > 0.05]\n"
   ]
  },
  {
   "cell_type": "code",
   "execution_count": 4,
   "id": "89e98cc0-9af7-47f9-9e14-b9c62ab6cf21",
   "metadata": {},
   "outputs": [
    {
     "name": "stdout",
     "output_type": "stream",
     "text": [
      " Columns with > 5% Missing Data:\n",
      "member_id: 100.00%\n",
      "emp_title: 7.39%\n",
      "emp_length: 6.50%\n",
      "desc: 94.42%\n",
      "mths_since_last_delinq: 51.25%\n",
      "mths_since_last_record: 84.11%\n",
      "next_pymnt_d: 59.51%\n",
      "mths_since_last_major_derog: 74.31%\n",
      "annual_inc_joint: 94.66%\n",
      "dti_joint: 94.66%\n",
      "verification_status_joint: 94.88%\n",
      "open_acc_6m: 38.31%\n",
      "open_act_il: 38.31%\n",
      "open_il_12m: 38.31%\n",
      "open_il_24m: 38.31%\n",
      "mths_since_rcnt_il: 40.25%\n",
      "total_bal_il: 38.31%\n",
      "il_util: 47.28%\n",
      "open_rv_12m: 38.31%\n",
      "open_rv_24m: 38.31%\n",
      "max_bal_bc: 38.31%\n",
      "all_util: 38.32%\n",
      "inq_fi: 38.31%\n",
      "total_cu_tl: 38.31%\n",
      "inq_last_12m: 38.31%\n",
      "mo_sin_old_il_acct: 6.15%\n",
      "mths_since_recent_bc_dlq: 77.01%\n",
      "mths_since_recent_inq: 13.07%\n",
      "mths_since_recent_revol_delinq: 67.25%\n",
      "num_tl_120dpd_2m: 6.80%\n",
      "revol_bal_joint: 95.22%\n",
      "sec_app_fico_range_low: 95.22%\n",
      "sec_app_fico_range_high: 95.22%\n",
      "sec_app_earliest_cr_line: 95.22%\n",
      "sec_app_inq_last_6mths: 95.22%\n",
      "sec_app_mort_acc: 95.22%\n",
      "sec_app_open_acc: 95.22%\n",
      "sec_app_revol_util: 95.30%\n",
      "sec_app_open_act_il: 95.22%\n",
      "sec_app_num_rev_accts: 95.22%\n",
      "sec_app_chargeoff_within_12_mths: 95.22%\n",
      "sec_app_collections_12_mths_ex_med: 95.22%\n",
      "sec_app_mths_since_last_major_derog: 98.41%\n",
      "hardship_type: 99.52%\n",
      "hardship_reason: 99.52%\n",
      "hardship_status: 99.52%\n",
      "deferral_term: 99.52%\n",
      "hardship_amount: 99.52%\n",
      "hardship_start_date: 99.52%\n",
      "hardship_end_date: 99.52%\n",
      "payment_plan_start_date: 99.52%\n",
      "hardship_length: 99.52%\n",
      "hardship_dpd: 99.52%\n",
      "hardship_loan_status: 99.52%\n",
      "orig_projected_additional_accrued_interest: 99.62%\n",
      "hardship_payoff_balance_amount: 99.52%\n",
      "hardship_last_payment_amount: 99.52%\n",
      "debt_settlement_flag_date: 98.49%\n",
      "settlement_status: 98.49%\n",
      "settlement_date: 98.49%\n",
      "settlement_amount: 98.49%\n",
      "settlement_percentage: 98.49%\n",
      "settlement_term: 98.49%\n"
     ]
    }
   ],
   "source": [
    "print(\" Columns with > 5% Missing Data:\")\n",
    "for col, pct in cols.items():\n",
    "    print(f\"{col}: {pct:.2%}\")"
   ]
  },
  {
   "cell_type": "code",
   "execution_count": 12,
   "id": "58630ad3-a1f9-4e27-90b6-d56c091c70fd",
   "metadata": {},
   "outputs": [],
   "source": [
    "cols_drop_initially = check[check > 0.8].index\n",
    "# drop columns which have more than 80% missing data"
   ]
  },
  {
   "cell_type": "code",
   "execution_count": 13,
   "id": "493c598d-4ee1-483d-8ea8-7e9588486f2f",
   "metadata": {},
   "outputs": [],
   "source": [
    "df.drop(columns= cols_drop_initially, inplace= True)"
   ]
  },
  {
   "cell_type": "code",
   "execution_count": 14,
   "id": "217268f0-75e8-47e9-9eae-c9c16b3fa7fb",
   "metadata": {},
   "outputs": [
    {
     "data": {
      "text/plain": [
       "(2260701, 112)"
      ]
     },
     "execution_count": 14,
     "metadata": {},
     "output_type": "execute_result"
    }
   ],
   "source": [
    "df.shape"
   ]
  },
  {
   "cell_type": "code",
   "execution_count": 15,
   "id": "a32e0581-58e1-4f7f-abf9-abf29ede7d93",
   "metadata": {},
   "outputs": [],
   "source": [
    "drop_cols = ['emp_title', 'mths_since_last_delinq', 'next_pymnt_d', 'mths_since_last_major_derog', \n",
    "             'mths_since_recent_bc_dlq', 'mths_since_recent_revol_delinq',  'issue_d', 'url', 'id', 'pymnt_plan', 'title', 'zip_code', 'last_pymnt_d', \n",
    "            ]\n",
    "\n",
    "# drop columns which have either more than 50% missing data or are not related"
   ]
  },
  {
   "cell_type": "code",
   "execution_count": 16,
   "id": "eaf13d84-fa45-4ae3-b046-c72865606e82",
   "metadata": {},
   "outputs": [],
   "source": [
    "df.drop(columns= drop_cols, inplace= True)"
   ]
  },
  {
   "cell_type": "code",
   "execution_count": 21,
   "id": "a235d74f-7df8-4482-a554-4cd798a72911",
   "metadata": {},
   "outputs": [
    {
     "data": {
      "text/plain": [
       "(2260701, 99)"
      ]
     },
     "execution_count": 21,
     "metadata": {},
     "output_type": "execute_result"
    }
   ],
   "source": [
    "df.shape"
   ]
  },
  {
   "cell_type": "code",
   "execution_count": 22,
   "id": "220c18d3-687f-4b26-a36f-c94098a75e9e",
   "metadata": {},
   "outputs": [
    {
     "name": "stdout",
     "output_type": "stream",
     "text": [
      " Columns with > 0% Missing Data:\n",
      "loan_amnt: 0.00%\n",
      "funded_amnt: 0.00%\n",
      "funded_amnt_inv: 0.00%\n",
      "term: 0.00%\n",
      "int_rate: 0.00%\n",
      "installment: 0.00%\n",
      "grade: 0.00%\n",
      "sub_grade: 0.00%\n",
      "emp_length: 6.50%\n",
      "home_ownership: 0.00%\n",
      "annual_inc: 0.00%\n",
      "verification_status: 0.00%\n",
      "loan_status: 0.00%\n",
      "purpose: 0.00%\n",
      "addr_state: 0.00%\n",
      "dti: 0.08%\n",
      "delinq_2yrs: 0.00%\n",
      "earliest_cr_line: 0.00%\n",
      "fico_range_low: 0.00%\n",
      "fico_range_high: 0.00%\n",
      "inq_last_6mths: 0.00%\n",
      "open_acc: 0.00%\n",
      "pub_rec: 0.00%\n",
      "revol_bal: 0.00%\n",
      "revol_util: 0.08%\n",
      "total_acc: 0.00%\n",
      "initial_list_status: 0.00%\n",
      "out_prncp: 0.00%\n",
      "out_prncp_inv: 0.00%\n",
      "total_pymnt: 0.00%\n",
      "total_pymnt_inv: 0.00%\n",
      "total_rec_prncp: 0.00%\n",
      "total_rec_int: 0.00%\n",
      "total_rec_late_fee: 0.00%\n",
      "recoveries: 0.00%\n",
      "collection_recovery_fee: 0.00%\n",
      "last_pymnt_amnt: 0.00%\n",
      "last_credit_pull_d: 0.00%\n",
      "last_fico_range_high: 0.00%\n",
      "last_fico_range_low: 0.00%\n",
      "collections_12_mths_ex_med: 0.01%\n",
      "policy_code: 0.00%\n",
      "application_type: 0.00%\n",
      "acc_now_delinq: 0.00%\n",
      "tot_coll_amt: 3.11%\n",
      "tot_cur_bal: 3.11%\n",
      "open_acc_6m: 38.31%\n",
      "open_act_il: 38.31%\n",
      "open_il_12m: 38.31%\n",
      "open_il_24m: 38.31%\n",
      "mths_since_rcnt_il: 40.25%\n",
      "total_bal_il: 38.31%\n",
      "il_util: 47.28%\n",
      "open_rv_12m: 38.31%\n",
      "open_rv_24m: 38.31%\n",
      "max_bal_bc: 38.31%\n",
      "all_util: 38.32%\n",
      "total_rev_hi_lim: 3.11%\n",
      "inq_fi: 38.31%\n",
      "total_cu_tl: 38.31%\n",
      "inq_last_12m: 38.31%\n",
      "acc_open_past_24mths: 2.21%\n",
      "avg_cur_bal: 3.11%\n",
      "bc_open_to_buy: 3.32%\n",
      "bc_util: 3.37%\n",
      "chargeoff_within_12_mths: 0.01%\n",
      "delinq_amnt: 0.00%\n",
      "mo_sin_old_il_acct: 6.15%\n",
      "mo_sin_old_rev_tl_op: 3.11%\n",
      "mo_sin_rcnt_rev_tl_op: 3.11%\n",
      "mo_sin_rcnt_tl: 3.11%\n",
      "mort_acc: 2.21%\n",
      "mths_since_recent_bc: 3.25%\n",
      "mths_since_recent_inq: 13.07%\n",
      "num_accts_ever_120_pd: 3.11%\n",
      "num_actv_bc_tl: 3.11%\n",
      "num_actv_rev_tl: 3.11%\n",
      "num_bc_sats: 2.59%\n",
      "num_bc_tl: 3.11%\n",
      "num_il_tl: 3.11%\n",
      "num_op_rev_tl: 3.11%\n",
      "num_rev_accts: 3.11%\n",
      "num_rev_tl_bal_gt_0: 3.11%\n",
      "num_sats: 2.59%\n",
      "num_tl_120dpd_2m: 6.80%\n",
      "num_tl_30dpd: 3.11%\n",
      "num_tl_90g_dpd_24m: 3.11%\n",
      "num_tl_op_past_12m: 3.11%\n",
      "pct_tl_nvr_dlq: 3.12%\n",
      "percent_bc_gt_75: 3.34%\n",
      "pub_rec_bankruptcies: 0.06%\n",
      "tax_liens: 0.01%\n",
      "tot_hi_cred_lim: 3.11%\n",
      "total_bal_ex_mort: 2.21%\n",
      "total_bc_limit: 2.21%\n",
      "total_il_high_credit_limit: 3.11%\n",
      "hardship_flag: 0.00%\n",
      "disbursement_method: 0.00%\n",
      "debt_settlement_flag: 0.00%\n"
     ]
    }
   ],
   "source": [
    "check = df.isnull().sum()/len(df)\n",
    "cols = check[check > 0.0]\n",
    "print(\" Columns with > 0% Missing Data:\")\n",
    "for col, pct in cols.items():\n",
    "    print(f\"{col}: {pct:.2%}\")"
   ]
  },
  {
   "cell_type": "code",
   "execution_count": 23,
   "id": "5135654f-83be-42fc-86a4-1ebaffefdde6",
   "metadata": {},
   "outputs": [
    {
     "data": {
      "text/plain": [
       "32"
      ]
     },
     "execution_count": 23,
     "metadata": {},
     "output_type": "execute_result"
    }
   ],
   "source": [
    "df.duplicated().sum()\n",
    "# there are 32 duplicated rows"
   ]
  },
  {
   "cell_type": "code",
   "execution_count": 24,
   "id": "4971e89f-13ec-4583-9dcf-3596cb866272",
   "metadata": {},
   "outputs": [],
   "source": [
    "df.drop_duplicates(inplace= True)"
   ]
  },
  {
   "cell_type": "code",
   "execution_count": 25,
   "id": "7efdfce7-0cea-4385-8041-ab74dd53a75b",
   "metadata": {},
   "outputs": [],
   "source": [
    "#pd.set_option('display.max.columns', None)\n",
    "#print(df.head())"
   ]
  },
  {
   "cell_type": "code",
   "execution_count": 26,
   "id": "5fb69c20-2162-4c97-8c5d-4c4d7d84d06a",
   "metadata": {},
   "outputs": [],
   "source": [
    "#pd.set_option('display.max.columns', None)\n",
    "#df.describe()"
   ]
  },
  {
   "cell_type": "code",
   "execution_count": 27,
   "id": "f01fd40a-4e90-490e-81c4-e97d92bb457d",
   "metadata": {},
   "outputs": [],
   "source": [
    "#pd.set_option('display.max.columns', None)\n",
    "#df.head()"
   ]
  },
  {
   "cell_type": "code",
   "execution_count": 30,
   "id": "9e92798b-9867-4c28-85ae-c26743062ef1",
   "metadata": {},
   "outputs": [
    {
     "ename": "KeyboardInterrupt",
     "evalue": "",
     "output_type": "error",
     "traceback": [
      "\u001b[0;31m---------------------------------------------------------------------------\u001b[0m",
      "\u001b[0;31mKeyboardInterrupt\u001b[0m                         Traceback (most recent call last)",
      "\u001b[0;32m/var/folders/c8/v_4dmmy53vjcsrssqrpwn7840000gn/T/ipykernel_1076/4104568565.py\u001b[0m in \u001b[0;36m?\u001b[0;34m()\u001b[0m\n\u001b[1;32m      1\u001b[0m \u001b[0;32mfrom\u001b[0m \u001b[0mcolumn_analysis\u001b[0m \u001b[0;32mimport\u001b[0m \u001b[0mfull_column_analysis\u001b[0m\u001b[0;34m\u001b[0m\u001b[0;34m\u001b[0m\u001b[0m\n\u001b[1;32m      2\u001b[0m \u001b[0;34m\u001b[0m\u001b[0m\n\u001b[1;32m      3\u001b[0m \u001b[0;31m# Example usage\u001b[0m\u001b[0;34m\u001b[0m\u001b[0;34m\u001b[0m\u001b[0m\n\u001b[0;32m----> 4\u001b[0;31m \u001b[0mfull_column_analysis\u001b[0m\u001b[0;34m(\u001b[0m\u001b[0mdf\u001b[0m\u001b[0;34m,\u001b[0m \u001b[0mtarget_name\u001b[0m\u001b[0;34m=\u001b[0m\u001b[0;34m'loan_status'\u001b[0m\u001b[0;34m)\u001b[0m\u001b[0;34m\u001b[0m\u001b[0;34m\u001b[0m\u001b[0m\n\u001b[0m",
      "\u001b[0;32m~/Desktop/Python/Machine-Learning/credit loan project/column_analysis.py\u001b[0m in \u001b[0;36m?\u001b[0;34m(df, target_name, output_path)\u001b[0m\n\u001b[1;32m     56\u001b[0m             \u001b[0mresult\u001b[0m\u001b[0;34m[\u001b[0m\u001b[0;34m'Corr with Target'\u001b[0m\u001b[0;34m]\u001b[0m \u001b[0;34m=\u001b[0m \u001b[0;34m'N/A'\u001b[0m\u001b[0;34m\u001b[0m\u001b[0;34m\u001b[0m\u001b[0m\n\u001b[1;32m     57\u001b[0m \u001b[0;34m\u001b[0m\u001b[0m\n\u001b[1;32m     58\u001b[0m         \u001b[0;31m# High correlation with other numeric features\u001b[0m\u001b[0;34m\u001b[0m\u001b[0;34m\u001b[0m\u001b[0m\n\u001b[1;32m     59\u001b[0m         \u001b[0;32mif\u001b[0m \u001b[0mseries\u001b[0m\u001b[0;34m.\u001b[0m\u001b[0mdtype\u001b[0m \u001b[0;32min\u001b[0m \u001b[0;34m[\u001b[0m\u001b[0mnp\u001b[0m\u001b[0;34m.\u001b[0m\u001b[0mfloat64\u001b[0m\u001b[0;34m,\u001b[0m \u001b[0mnp\u001b[0m\u001b[0;34m.\u001b[0m\u001b[0mint64\u001b[0m\u001b[0;34m]\u001b[0m \u001b[0;32mand\u001b[0m \u001b[0mcol\u001b[0m \u001b[0;32min\u001b[0m \u001b[0mnumeric_df\u001b[0m\u001b[0;34m.\u001b[0m\u001b[0mcolumns\u001b[0m\u001b[0;34m:\u001b[0m\u001b[0;34m\u001b[0m\u001b[0;34m\u001b[0m\u001b[0m\n\u001b[0;32m---> 60\u001b[0;31m             \u001b[0mcorrelations\u001b[0m \u001b[0;34m=\u001b[0m \u001b[0mnumeric_df\u001b[0m\u001b[0;34m.\u001b[0m\u001b[0mcorr\u001b[0m\u001b[0;34m(\u001b[0m\u001b[0;34m)\u001b[0m\u001b[0;34m[\u001b[0m\u001b[0mcol\u001b[0m\u001b[0;34m]\u001b[0m\u001b[0;34m.\u001b[0m\u001b[0mdrop\u001b[0m\u001b[0;34m(\u001b[0m\u001b[0mlabels\u001b[0m\u001b[0;34m=\u001b[0m\u001b[0;34m[\u001b[0m\u001b[0mcol\u001b[0m\u001b[0;34m]\u001b[0m\u001b[0;34m)\u001b[0m\u001b[0;34m\u001b[0m\u001b[0;34m\u001b[0m\u001b[0m\n\u001b[0m\u001b[1;32m     61\u001b[0m             \u001b[0mhigh_corr_cols\u001b[0m \u001b[0;34m=\u001b[0m \u001b[0mcorrelations\u001b[0m\u001b[0;34m[\u001b[0m\u001b[0mcorrelations\u001b[0m\u001b[0;34m.\u001b[0m\u001b[0mabs\u001b[0m\u001b[0;34m(\u001b[0m\u001b[0;34m)\u001b[0m \u001b[0;34m>\u001b[0m \u001b[0;36m0.9\u001b[0m\u001b[0;34m]\u001b[0m\u001b[0;34m.\u001b[0m\u001b[0mindex\u001b[0m\u001b[0;34m.\u001b[0m\u001b[0mtolist\u001b[0m\u001b[0;34m(\u001b[0m\u001b[0;34m)\u001b[0m\u001b[0;34m\u001b[0m\u001b[0;34m\u001b[0m\u001b[0m\n\u001b[1;32m     62\u001b[0m             \u001b[0mresult\u001b[0m\u001b[0;34m[\u001b[0m\u001b[0;34m'Highly Correlated With'\u001b[0m\u001b[0;34m]\u001b[0m \u001b[0;34m=\u001b[0m \u001b[0;34m', '\u001b[0m\u001b[0;34m.\u001b[0m\u001b[0mjoin\u001b[0m\u001b[0;34m(\u001b[0m\u001b[0mhigh_corr_cols\u001b[0m\u001b[0;34m)\u001b[0m \u001b[0;32mif\u001b[0m \u001b[0mhigh_corr_cols\u001b[0m \u001b[0;32melse\u001b[0m \u001b[0;34m'None'\u001b[0m\u001b[0;34m\u001b[0m\u001b[0;34m\u001b[0m\u001b[0m\n\u001b[1;32m     63\u001b[0m         \u001b[0;32melse\u001b[0m\u001b[0;34m:\u001b[0m\u001b[0;34m\u001b[0m\u001b[0;34m\u001b[0m\u001b[0m\n",
      "\u001b[0;32m~/myenv/lib/python3.12/site-packages/pandas/core/frame.py\u001b[0m in \u001b[0;36m?\u001b[0;34m(self, method, min_periods, numeric_only)\u001b[0m\n\u001b[1;32m  11048\u001b[0m         \u001b[0midx\u001b[0m \u001b[0;34m=\u001b[0m \u001b[0mcols\u001b[0m\u001b[0;34m.\u001b[0m\u001b[0mcopy\u001b[0m\u001b[0;34m(\u001b[0m\u001b[0;34m)\u001b[0m\u001b[0;34m\u001b[0m\u001b[0;34m\u001b[0m\u001b[0m\n\u001b[1;32m  11049\u001b[0m         \u001b[0mmat\u001b[0m \u001b[0;34m=\u001b[0m \u001b[0mdata\u001b[0m\u001b[0;34m.\u001b[0m\u001b[0mto_numpy\u001b[0m\u001b[0;34m(\u001b[0m\u001b[0mdtype\u001b[0m\u001b[0;34m=\u001b[0m\u001b[0mfloat\u001b[0m\u001b[0;34m,\u001b[0m \u001b[0mna_value\u001b[0m\u001b[0;34m=\u001b[0m\u001b[0mnp\u001b[0m\u001b[0;34m.\u001b[0m\u001b[0mnan\u001b[0m\u001b[0;34m,\u001b[0m \u001b[0mcopy\u001b[0m\u001b[0;34m=\u001b[0m\u001b[0;32mFalse\u001b[0m\u001b[0;34m)\u001b[0m\u001b[0;34m\u001b[0m\u001b[0;34m\u001b[0m\u001b[0m\n\u001b[1;32m  11050\u001b[0m \u001b[0;34m\u001b[0m\u001b[0m\n\u001b[1;32m  11051\u001b[0m         \u001b[0;32mif\u001b[0m \u001b[0mmethod\u001b[0m \u001b[0;34m==\u001b[0m \u001b[0;34m\"pearson\"\u001b[0m\u001b[0;34m:\u001b[0m\u001b[0;34m\u001b[0m\u001b[0;34m\u001b[0m\u001b[0m\n\u001b[0;32m> 11052\u001b[0;31m             \u001b[0mcorrel\u001b[0m \u001b[0;34m=\u001b[0m \u001b[0mlibalgos\u001b[0m\u001b[0;34m.\u001b[0m\u001b[0mnancorr\u001b[0m\u001b[0;34m(\u001b[0m\u001b[0mmat\u001b[0m\u001b[0;34m,\u001b[0m \u001b[0mminp\u001b[0m\u001b[0;34m=\u001b[0m\u001b[0mmin_periods\u001b[0m\u001b[0;34m)\u001b[0m\u001b[0;34m\u001b[0m\u001b[0;34m\u001b[0m\u001b[0m\n\u001b[0m\u001b[1;32m  11053\u001b[0m         \u001b[0;32melif\u001b[0m \u001b[0mmethod\u001b[0m \u001b[0;34m==\u001b[0m \u001b[0;34m\"spearman\"\u001b[0m\u001b[0;34m:\u001b[0m\u001b[0;34m\u001b[0m\u001b[0;34m\u001b[0m\u001b[0m\n\u001b[1;32m  11054\u001b[0m             \u001b[0mcorrel\u001b[0m \u001b[0;34m=\u001b[0m \u001b[0mlibalgos\u001b[0m\u001b[0;34m.\u001b[0m\u001b[0mnancorr_spearman\u001b[0m\u001b[0;34m(\u001b[0m\u001b[0mmat\u001b[0m\u001b[0;34m,\u001b[0m \u001b[0mminp\u001b[0m\u001b[0;34m=\u001b[0m\u001b[0mmin_periods\u001b[0m\u001b[0;34m)\u001b[0m\u001b[0;34m\u001b[0m\u001b[0;34m\u001b[0m\u001b[0m\n\u001b[1;32m  11055\u001b[0m         \u001b[0;32melif\u001b[0m \u001b[0mmethod\u001b[0m \u001b[0;34m==\u001b[0m \u001b[0;34m\"kendall\"\u001b[0m \u001b[0;32mor\u001b[0m \u001b[0mcallable\u001b[0m\u001b[0;34m(\u001b[0m\u001b[0mmethod\u001b[0m\u001b[0;34m)\u001b[0m\u001b[0;34m:\u001b[0m\u001b[0;34m\u001b[0m\u001b[0;34m\u001b[0m\u001b[0m\n",
      "\u001b[0;31mKeyboardInterrupt\u001b[0m: "
     ]
    }
   ],
   "source": [
    "from column_analysis import full_column_analysis\n",
    "\n",
    "# Example usage\n",
    "full_column_analysis(df, target_name='loan_status')\n"
   ]
  },
  {
   "cell_type": "code",
   "execution_count": 34,
   "id": "f2180783-210b-4b75-9584-857d72bd4fcd",
   "metadata": {},
   "outputs": [
    {
     "name": "stderr",
     "output_type": "stream",
     "text": [
      "Summarize dataset:   0%| | 0/104 [00:00<?, ?it/s, Describe variable: home_owners\n",
      "Summarize dataset:  11%| | 11/104 [00:03<00:58,  1.60it/s, Describe variable: in\u001b[A\n",
      "Summarize dataset:  12%| | 12/104 [00:03<00:50,  1.82it/s, Describe variable: in\u001b[A\n",
      "Summarize dataset:  13%|▏| 14/104 [00:03<00:30,  2.97it/s, Describe variable: re\u001b[A\n",
      "Summarize dataset:  14%|▏| 15/104 [00:03<00:26,  3.38it/s, Describe variable: re\u001b[A\n",
      "Summarize dataset:  22%|▏| 23/104 [00:03<00:05, 15.46it/s, Describe variable: to\u001b[A\n",
      "Summarize dataset:  23%|▏| 24/104 [00:04<00:05, 15.46it/s, Describe variable: to\u001b[A\n",
      " 18%|███████▊                                   | 18/99 [00:02<00:06, 13.48it/s]\u001b[A\n",
      "Summarize dataset:  25%|▎| 26/104 [00:04<00:09,  8.23it/s, Describe variable: co\u001b[A\n",
      "Summarize dataset:  26%|▎| 27/104 [00:05<00:14,  5.49it/s, Describe variable: la\u001b[A\n",
      "Summarize dataset:  30%|▎| 31/104 [00:06<00:18,  3.95it/s, Describe variable: co\u001b[A\n",
      "Summarize dataset:  42%|▍| 44/104 [00:07<00:04, 12.48it/s, Describe variable: op\u001b[A\n",
      "Summarize dataset:  56%|▌| 58/104 [00:07<00:01, 27.18it/s, Describe variable: mo\u001b[A\n",
      "Summarize dataset:  59%|▌| 61/104 [00:07<00:01, 29.99it/s, Describe variable: mo\u001b[A\n",
      "Summarize dataset:  62%|▋| 65/104 [00:07<00:01, 22.77it/s, Describe variable: nu\u001b[A\n",
      "Summarize dataset:  68%|▋| 71/104 [00:07<00:00, 35.65it/s, Describe variable: nu\u001b[A\n",
      "Summarize dataset:  70%|▋| 73/104 [00:08<00:00, 35.65it/s, Describe variable: nu\u001b[A\n",
      "Summarize dataset:  76%|▊| 79/104 [00:08<00:00, 29.51it/s, Describe variable: pc\u001b[A\n",
      "Summarize dataset:  78%|▊| 81/104 [00:08<00:00, 32.01it/s, Describe variable: pu\u001b[A\n",
      "Summarize dataset:  83%|▊| 86/104 [00:08<00:00, 27.57it/s, Describe variable: to\u001b[A\n",
      "Summarize dataset:  87%|▊| 90/104 [00:08<00:00, 20.87it/s, Describe variable: de\u001b[A\n",
      "Summarize dataset:  93%|▉| 97/104 [00:09<00:00,  7.83it/s, Describe variable: de\u001b[A\n",
      "100%|███████████████████████████████████████████| 99/99 [00:08<00:00, 12.05it/s]\u001b[A\n",
      "Summarize dataset: 100%|███████████| 105/105 [00:09<00:00, 10.71it/s, Completed]\n",
      "Generate report structure: 100%|██████████████████| 1/1 [00:11<00:00, 11.44s/it]\n",
      "Render HTML: 100%|████████████████████████████████| 1/1 [00:00<00:00,  1.27it/s]\n",
      "Export report to file: 100%|█████████████████████| 1/1 [00:00<00:00, 172.56it/s]\n"
     ]
    }
   ],
   "source": [
    "profile = ProfileReport(\n",
    "    df,\n",
    "    title=\"Initial Report (Fast)\",\n",
    "    minimal=True,               # Very fast: disables correlations, interactions, etc.\n",
    "    explorative=False,\n",
    "    progress_bar=True,\n",
    "    samples=None\n",
    ")\n",
    "\n",
    "profile.to_file(\"initial_report_fast.html\")"
   ]
  },
  {
   "cell_type": "code",
   "execution_count": null,
   "id": "ff0f0d46-c96e-4c8a-8339-edf07ab913f7",
   "metadata": {},
   "outputs": [],
   "source": [
    "ProfileReport(df, title= \"initial report\")\n",
    "report.to_file(\"initial report.html\")"
   ]
  }
 ],
 "metadata": {
  "kernelspec": {
   "display_name": "Python (ali)",
   "language": "python",
   "name": "myenv"
  },
  "language_info": {
   "codemirror_mode": {
    "name": "ipython",
    "version": 3
   },
   "file_extension": ".py",
   "mimetype": "text/x-python",
   "name": "python",
   "nbconvert_exporter": "python",
   "pygments_lexer": "ipython3",
   "version": "3.12.6"
  }
 },
 "nbformat": 4,
 "nbformat_minor": 5
}
