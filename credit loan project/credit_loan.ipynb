{
 "cells": [
  {
   "cell_type": "code",
   "execution_count": 1,
   "id": "ac04ab8f-2421-4ebf-8afe-fd6982dc40d4",
   "metadata": {},
   "outputs": [
    {
     "name": "stderr",
     "output_type": "stream",
     "text": [
      "/Users/muhammadshahzebali/myenv/lib/python3.12/site-packages/tqdm/auto.py:21: TqdmWarning: IProgress not found. Please update jupyter and ipywidgets. See https://ipywidgets.readthedocs.io/en/stable/user_install.html\n",
      "  from .autonotebook import tqdm as notebook_tqdm\n"
     ]
    },
    {
     "name": "stdout",
     "output_type": "stream",
     "text": [
      "Downloading from https://www.kaggle.com/api/v1/datasets/download/wordsforthewise/lending-club?dataset_version_number=3...\n"
     ]
    },
    {
     "name": "stderr",
     "output_type": "stream",
     "text": [
      "100%|██████████████████████████████████████| 1.26G/1.26G [00:15<00:00, 87.4MB/s]"
     ]
    },
    {
     "name": "stdout",
     "output_type": "stream",
     "text": [
      "Extracting files...\n"
     ]
    },
    {
     "name": "stderr",
     "output_type": "stream",
     "text": [
      "\n"
     ]
    },
    {
     "name": "stdout",
     "output_type": "stream",
     "text": [
      "Path to dataset files: /Users/muhammadshahzebali/.cache/kagglehub/datasets/wordsforthewise/lending-club/versions/3\n"
     ]
    }
   ],
   "source": [
    "#import kagglehub\n",
    "\n",
    "# Download latest version\n",
    "path = kagglehub.dataset_download(\"wordsforthewise/lending-club\")\n",
    "\n",
    "#print(\"Path to dataset files:\", path)"
   ]
  },
  {
   "cell_type": "code",
   "execution_count": 10,
   "id": "27643587-73e1-49b5-b87d-a814291038f0",
   "metadata": {},
   "outputs": [
    {
     "name": "stdout",
     "output_type": "stream",
     "text": [
      "['rejected_2007_to_2018q4.csv', 'accepted_2007_to_2018q4.csv', 'rejected_2007_to_2018Q4.csv.gz', 'accepted_2007_to_2018Q4.csv.gz']\n"
     ]
    }
   ],
   "source": [
    "import pandas as pd\n",
    "import os\n",
    "\n",
    "# Base path where data is downloaded\n",
    "path = \"/Users/muhammadshahzebali/.cache/kagglehub/datasets/wordsforthewise/lending-club/versions/3\"\n",
    "print(os.listdir(path))\n"
   ]
  },
  {
   "cell_type": "code",
   "execution_count": 12,
   "id": "966b58ea-d64c-4ad2-8baf-b4ddc6e79f3a",
   "metadata": {},
   "outputs": [],
   "source": [
    "accepted_path = os.path.join(path, 'accepted_2007_to_2018Q4.csv.gz')\n",
    "rejected_path = os.path.join(path, 'rejected_2007_to_2018Q4.csv.gz')\n",
    "\n",
    "import pandas as pd\n",
    "\n",
    "accepted_df = pd.read_csv(accepted_path, low_memory=False)\n",
    "rejected_df = pd.read_csv(rejected_path, low_memory=False)\n"
   ]
  },
  {
   "cell_type": "code",
   "execution_count": 40,
   "id": "0991e8f0-ce53-4797-a844-8402741eb4e5",
   "metadata": {},
   "outputs": [
    {
     "name": "stdout",
     "output_type": "stream",
     "text": [
      "(2260701, 151)\n",
      "(27648741, 9)\n"
     ]
    }
   ],
   "source": [
    "# we have imbalance data where ratio is approximatley 1:12 which means for every accepted loan, we have 12 rejected loans.\n",
    "\n",
    "\n",
    "print(accepted_df.shape)\n",
    "print(rejected_df.shape)"
   ]
  },
  {
   "cell_type": "markdown",
   "id": "509c557b-88c0-42a7-b4cf-a1e60ff1a2e2",
   "metadata": {},
   "source": [
    "## Check for missig Data"
   ]
  },
  {
   "cell_type": "code",
   "execution_count": 49,
   "id": "df990944-a447-4b68-91a6-e3434b1f6675",
   "metadata": {},
   "outputs": [],
   "source": [
    "check_accepted = accepted_df.isnull().sum()/len(accepted_df)\n",
    "check_rejected = rejected_df.isnull().sum()/len(rejected_df)\n",
    "cols_accepted = check_accepted[check_accepted>0.05]\n",
    "cols_rejected = check_rejected[check_rejected>0.05]"
   ]
  },
  {
   "cell_type": "code",
   "execution_count": 45,
   "id": "a2329ca7-b099-417b-958e-e2c9014b3e39",
   "metadata": {},
   "outputs": [
    {
     "data": {
      "text/plain": [
       "['Risk_Score']"
      ]
     },
     "execution_count": 45,
     "metadata": {},
     "output_type": "execute_result"
    }
   ],
   "source": [
    "list(cols_rejected)"
   ]
  },
  {
   "cell_type": "code",
   "execution_count": 47,
   "id": "a8a3c929-c0ad-4c39-a999-d8ea98189ca9",
   "metadata": {},
   "outputs": [
    {
     "data": {
      "text/plain": [
       "0.6690225063050791"
      ]
     },
     "execution_count": 47,
     "metadata": {},
     "output_type": "execute_result"
    }
   ],
   "source": [
    "rejected_df['Risk_Score'].isnull().mean() # there is approximately 66% data missing in risk score, so we have to drop this column"
   ]
  },
  {
   "cell_type": "code",
   "execution_count": 51,
   "id": "89e98cc0-9af7-47f9-9e14-b9c62ab6cf21",
   "metadata": {},
   "outputs": [
    {
     "name": "stdout",
     "output_type": "stream",
     "text": [
      "Accepted File, Columns with > 5% Missing Data:\n",
      "member_id: 100.00%\n",
      "emp_title: 7.39%\n",
      "emp_length: 6.50%\n",
      "desc: 94.42%\n",
      "mths_since_last_delinq: 51.25%\n",
      "mths_since_last_record: 84.11%\n",
      "next_pymnt_d: 59.51%\n",
      "mths_since_last_major_derog: 74.31%\n",
      "annual_inc_joint: 94.66%\n",
      "dti_joint: 94.66%\n",
      "verification_status_joint: 94.88%\n",
      "open_acc_6m: 38.31%\n",
      "open_act_il: 38.31%\n",
      "open_il_12m: 38.31%\n",
      "open_il_24m: 38.31%\n",
      "mths_since_rcnt_il: 40.25%\n",
      "total_bal_il: 38.31%\n",
      "il_util: 47.28%\n",
      "open_rv_12m: 38.31%\n",
      "open_rv_24m: 38.31%\n",
      "max_bal_bc: 38.31%\n",
      "all_util: 38.32%\n",
      "inq_fi: 38.31%\n",
      "total_cu_tl: 38.31%\n",
      "inq_last_12m: 38.31%\n",
      "mo_sin_old_il_acct: 6.15%\n",
      "mths_since_recent_bc_dlq: 77.01%\n",
      "mths_since_recent_inq: 13.07%\n",
      "mths_since_recent_revol_delinq: 67.25%\n",
      "num_tl_120dpd_2m: 6.80%\n",
      "revol_bal_joint: 95.22%\n",
      "sec_app_fico_range_low: 95.22%\n",
      "sec_app_fico_range_high: 95.22%\n",
      "sec_app_earliest_cr_line: 95.22%\n",
      "sec_app_inq_last_6mths: 95.22%\n",
      "sec_app_mort_acc: 95.22%\n",
      "sec_app_open_acc: 95.22%\n",
      "sec_app_revol_util: 95.30%\n",
      "sec_app_open_act_il: 95.22%\n",
      "sec_app_num_rev_accts: 95.22%\n",
      "sec_app_chargeoff_within_12_mths: 95.22%\n",
      "sec_app_collections_12_mths_ex_med: 95.22%\n",
      "sec_app_mths_since_last_major_derog: 98.41%\n",
      "hardship_type: 99.52%\n",
      "hardship_reason: 99.52%\n",
      "hardship_status: 99.52%\n",
      "deferral_term: 99.52%\n",
      "hardship_amount: 99.52%\n",
      "hardship_start_date: 99.52%\n",
      "hardship_end_date: 99.52%\n",
      "payment_plan_start_date: 99.52%\n",
      "hardship_length: 99.52%\n",
      "hardship_dpd: 99.52%\n",
      "hardship_loan_status: 99.52%\n",
      "orig_projected_additional_accrued_interest: 99.62%\n",
      "hardship_payoff_balance_amount: 99.52%\n",
      "hardship_last_payment_amount: 99.52%\n",
      "debt_settlement_flag_date: 98.49%\n",
      "settlement_status: 98.49%\n",
      "settlement_date: 98.49%\n",
      "settlement_amount: 98.49%\n",
      "settlement_percentage: 98.49%\n",
      "settlement_term: 98.49%\n"
     ]
    }
   ],
   "source": [
    "print(\"Accepted File, Columns with > 5% Missing Data:\")\n",
    "for col, pct in cols_accepted.items():\n",
    "    print(f\"{col}: {pct:.2%}\")"
   ]
  },
  {
   "cell_type": "code",
   "execution_count": null,
   "id": "a32e0581-58e1-4f7f-abf9-abf29ede7d93",
   "metadata": {},
   "outputs": [],
   "source": []
  }
 ],
 "metadata": {
  "kernelspec": {
   "display_name": "Python (ali)",
   "language": "python",
   "name": "myenv"
  },
  "language_info": {
   "codemirror_mode": {
    "name": "ipython",
    "version": 3
   },
   "file_extension": ".py",
   "mimetype": "text/x-python",
   "name": "python",
   "nbconvert_exporter": "python",
   "pygments_lexer": "ipython3",
   "version": "3.12.6"
  }
 },
 "nbformat": 4,
 "nbformat_minor": 5
}
