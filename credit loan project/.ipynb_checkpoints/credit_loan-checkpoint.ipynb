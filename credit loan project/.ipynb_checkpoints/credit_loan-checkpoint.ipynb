{
 "cells": [
  {
   "cell_type": "code",
   "execution_count": 1,
   "id": "ac04ab8f-2421-4ebf-8afe-fd6982dc40d4",
   "metadata": {},
   "outputs": [],
   "source": [
    "#import kagglehub\n",
    "\n",
    "# Download latest version\n",
    "#path = kagglehub.dataset_download(\"wordsforthewise/lending-club\")\n",
    "\n",
    "#print(\"Path to dataset files:\", path)"
   ]
  },
  {
   "cell_type": "code",
   "execution_count": 2,
   "id": "38a049c5-fffa-4905-847f-74d4db23e467",
   "metadata": {},
   "outputs": [
    {
     "name": "stderr",
     "output_type": "stream",
     "text": [
      "/Users/muhammadshahzebali/myenv/lib/python3.12/site-packages/tqdm/auto.py:21: TqdmWarning: IProgress not found. Please update jupyter and ipywidgets. See https://ipywidgets.readthedocs.io/en/stable/user_install.html\n",
      "  from .autonotebook import tqdm as notebook_tqdm\n"
     ]
    },
    {
     "data": {
      "text/html": [
       "\n",
       "            <div>\n",
       "                <ins><a href=\"https://ydata.ai/register\">Upgrade to ydata-sdk</a></ins>\n",
       "                <p>\n",
       "                    Improve your data and profiling with ydata-sdk, featuring data quality scoring, redundancy detection, outlier identification, text validation, and synthetic data generation.\n",
       "                </p>\n",
       "            </div>\n",
       "            "
      ],
      "text/plain": [
       "<IPython.core.display.HTML object>"
      ]
     },
     "metadata": {},
     "output_type": "display_data"
    }
   ],
   "source": [
    "from ydata_profiling import ProfileReport"
   ]
  },
  {
   "cell_type": "code",
   "execution_count": 1,
   "id": "27643587-73e1-49b5-b87d-a814291038f0",
   "metadata": {},
   "outputs": [],
   "source": [
    "import pandas as pd\n",
    "import os\n",
    "\n",
    "# Base path where data is downloaded\n",
    "path = \"/Users/muhammadshahzebali/.cache/kagglehub/datasets/wordsforthewise/lending-club/versions/3\"\n",
    "path = os.path.join(path, 'accepted_2007_to_2018Q4.csv.gz')\n",
    "df = pd.read_csv(path, low_memory=False)"
   ]
  },
  {
   "cell_type": "code",
   "execution_count": 4,
   "id": "0991e8f0-ce53-4797-a844-8402741eb4e5",
   "metadata": {},
   "outputs": [
    {
     "data": {
      "text/plain": [
       "(2260701, 151)"
      ]
     },
     "execution_count": 4,
     "metadata": {},
     "output_type": "execute_result"
    }
   ],
   "source": [
    "df.shape"
   ]
  },
  {
   "cell_type": "markdown",
   "id": "509c557b-88c0-42a7-b4cf-a1e60ff1a2e2",
   "metadata": {},
   "source": [
    "## Check for missig Data"
   ]
  },
  {
   "cell_type": "code",
   "execution_count": 5,
   "id": "df990944-a447-4b68-91a6-e3434b1f6675",
   "metadata": {},
   "outputs": [],
   "source": [
    "check = df.isnull().sum()/len(df)\n",
    "cols = check[check > 0.05]\n"
   ]
  },
  {
   "cell_type": "code",
   "execution_count": 6,
   "id": "89e98cc0-9af7-47f9-9e14-b9c62ab6cf21",
   "metadata": {},
   "outputs": [
    {
     "name": "stdout",
     "output_type": "stream",
     "text": [
      " Columns with > 5% Missing Data:\n",
      "member_id: 100.00%\n",
      "emp_title: 7.39%\n",
      "emp_length: 6.50%\n",
      "desc: 94.42%\n",
      "mths_since_last_delinq: 51.25%\n",
      "mths_since_last_record: 84.11%\n",
      "next_pymnt_d: 59.51%\n",
      "mths_since_last_major_derog: 74.31%\n",
      "annual_inc_joint: 94.66%\n",
      "dti_joint: 94.66%\n",
      "verification_status_joint: 94.88%\n",
      "open_acc_6m: 38.31%\n",
      "open_act_il: 38.31%\n",
      "open_il_12m: 38.31%\n",
      "open_il_24m: 38.31%\n",
      "mths_since_rcnt_il: 40.25%\n",
      "total_bal_il: 38.31%\n",
      "il_util: 47.28%\n",
      "open_rv_12m: 38.31%\n",
      "open_rv_24m: 38.31%\n",
      "max_bal_bc: 38.31%\n",
      "all_util: 38.32%\n",
      "inq_fi: 38.31%\n",
      "total_cu_tl: 38.31%\n",
      "inq_last_12m: 38.31%\n",
      "mo_sin_old_il_acct: 6.15%\n",
      "mths_since_recent_bc_dlq: 77.01%\n",
      "mths_since_recent_inq: 13.07%\n",
      "mths_since_recent_revol_delinq: 67.25%\n",
      "num_tl_120dpd_2m: 6.80%\n",
      "revol_bal_joint: 95.22%\n",
      "sec_app_fico_range_low: 95.22%\n",
      "sec_app_fico_range_high: 95.22%\n",
      "sec_app_earliest_cr_line: 95.22%\n",
      "sec_app_inq_last_6mths: 95.22%\n",
      "sec_app_mort_acc: 95.22%\n",
      "sec_app_open_acc: 95.22%\n",
      "sec_app_revol_util: 95.30%\n",
      "sec_app_open_act_il: 95.22%\n",
      "sec_app_num_rev_accts: 95.22%\n",
      "sec_app_chargeoff_within_12_mths: 95.22%\n",
      "sec_app_collections_12_mths_ex_med: 95.22%\n",
      "sec_app_mths_since_last_major_derog: 98.41%\n",
      "hardship_type: 99.52%\n",
      "hardship_reason: 99.52%\n",
      "hardship_status: 99.52%\n",
      "deferral_term: 99.52%\n",
      "hardship_amount: 99.52%\n",
      "hardship_start_date: 99.52%\n",
      "hardship_end_date: 99.52%\n",
      "payment_plan_start_date: 99.52%\n",
      "hardship_length: 99.52%\n",
      "hardship_dpd: 99.52%\n",
      "hardship_loan_status: 99.52%\n",
      "orig_projected_additional_accrued_interest: 99.62%\n",
      "hardship_payoff_balance_amount: 99.52%\n",
      "hardship_last_payment_amount: 99.52%\n",
      "debt_settlement_flag_date: 98.49%\n",
      "settlement_status: 98.49%\n",
      "settlement_date: 98.49%\n",
      "settlement_amount: 98.49%\n",
      "settlement_percentage: 98.49%\n",
      "settlement_term: 98.49%\n"
     ]
    }
   ],
   "source": [
    "print(\" Columns with > 5% Missing Data:\")\n",
    "for col, pct in cols.items():\n",
    "    print(f\"{col}: {pct:.2%}\")"
   ]
  },
  {
   "cell_type": "code",
   "execution_count": 7,
   "id": "58630ad3-a1f9-4e27-90b6-d56c091c70fd",
   "metadata": {},
   "outputs": [],
   "source": [
    "cols_drop_initially = check[check > 0.8].index\n",
    "# drop columns which have more than 80% missing data"
   ]
  },
  {
   "cell_type": "code",
   "execution_count": 8,
   "id": "493c598d-4ee1-483d-8ea8-7e9588486f2f",
   "metadata": {},
   "outputs": [],
   "source": [
    "df.drop(columns= cols_drop_initially, inplace= True)"
   ]
  },
  {
   "cell_type": "code",
   "execution_count": 9,
   "id": "217268f0-75e8-47e9-9eae-c9c16b3fa7fb",
   "metadata": {},
   "outputs": [
    {
     "data": {
      "text/plain": [
       "(2260701, 112)"
      ]
     },
     "execution_count": 9,
     "metadata": {},
     "output_type": "execute_result"
    }
   ],
   "source": [
    "df.shape"
   ]
  },
  {
   "cell_type": "code",
   "execution_count": 10,
   "id": "a32e0581-58e1-4f7f-abf9-abf29ede7d93",
   "metadata": {},
   "outputs": [],
   "source": [
    "drop_cols = ['emp_title', 'mths_since_last_delinq', 'next_pymnt_d', 'mths_since_last_major_derog', \n",
    "             'mths_since_recent_bc_dlq', 'mths_since_recent_revol_delinq',  'issue_d', 'url', 'id', 'pymnt_plan', 'title', 'zip_code', 'last_pymnt_d', 'policy_code', 'il_util', 'mths_since_rcnt_il', 'open_rv_12m', 'open_rv_24m',\n",
    "             'open_il_12m', 'open_il_24m', 'open_act_il', 'open_acc_6m', 'inq_fi', 'total_cu_tl', 'inq_last_12m' , 'total_rec_late_fee', 'tax_liens', 'acc_now_delinq', 'pub_rec', 'collections_12_mths_ex_med', 'emp_length', 'delinq_2yrs', \n",
    "             'inq_last_6mths', 'out_prncp', 'out_prncp_inv', 'recoveries', 'collection_recovery_fee', 'tot_coll_amt', 'total_bal_il', 'max_bal_bc', 'all_util', 'chargeoff_within_12_mths', 'delinq_amnt', 'mort_acc', 'mths_since_recent_inq',\n",
    "             'num_accts_ever_120_pd', 'num_tl_120dpd_2m', 'num_tl_30dpd', 'num_tl_90g_dpd_24m', 'num_tl_op_past_12m', 'percent_bc_gt_75', 'pub_rec_bankruptcies', 'last_credit_pull_d', 'total_rev_hi_lim',\n",
    "             'acc_open_past_24mths', 'total_il_high_credit_limit', 'hardship_flag', 'debt_settlement_flag'\n",
    "            ]\n",
    "\n",
    "# drop columns which have either more than 50% missing data or are not related"
   ]
  },
  {
   "cell_type": "code",
   "execution_count": 11,
   "id": "eaf13d84-fa45-4ae3-b046-c72865606e82",
   "metadata": {},
   "outputs": [],
   "source": [
    "df.drop(columns= drop_cols, inplace= True)"
   ]
  },
  {
   "cell_type": "code",
   "execution_count": 12,
   "id": "a235d74f-7df8-4482-a554-4cd798a72911",
   "metadata": {},
   "outputs": [
    {
     "data": {
      "text/plain": [
       "(2260701, 60)"
      ]
     },
     "execution_count": 12,
     "metadata": {},
     "output_type": "execute_result"
    }
   ],
   "source": [
    "df.shape"
   ]
  },
  {
   "cell_type": "code",
   "execution_count": 13,
   "id": "5135654f-83be-42fc-86a4-1ebaffefdde6",
   "metadata": {},
   "outputs": [
    {
     "data": {
      "text/plain": [
       "32"
      ]
     },
     "execution_count": 13,
     "metadata": {},
     "output_type": "execute_result"
    }
   ],
   "source": [
    "df.duplicated().sum()\n",
    "# there are 32 duplicated rows"
   ]
  },
  {
   "cell_type": "code",
   "execution_count": 14,
   "id": "4971e89f-13ec-4583-9dcf-3596cb866272",
   "metadata": {},
   "outputs": [],
   "source": [
    "df.drop_duplicates(inplace= True)"
   ]
  },
  {
   "cell_type": "code",
   "execution_count": 16,
   "id": "5fb69c20-2162-4c97-8c5d-4c4d7d84d06a",
   "metadata": {},
   "outputs": [],
   "source": [
    "#pd.set_option('display.max.columns', None)\n",
    "#df.describe()"
   ]
  },
  {
   "cell_type": "code",
   "execution_count": 17,
   "id": "f01fd40a-4e90-490e-81c4-e97d92bb457d",
   "metadata": {},
   "outputs": [],
   "source": [
    "#pd.set_option('display.max.columns', None)\n",
    "#df.head()"
   ]
  },
  {
   "cell_type": "code",
   "execution_count": 18,
   "id": "f2180783-210b-4b75-9584-857d72bd4fcd",
   "metadata": {},
   "outputs": [],
   "source": [
    "#profile = ProfileReport(\n",
    " #   df,\n",
    "  #  title=\"Initial Report (Fast)\",\n",
    "   # minimal=True,               \n",
    "    #explorative=False,\n",
    "    #progress_bar=True,\n",
    "    #samples=None\n",
    "#)\n",
    "\n",
    "#profile.to_file(\"initial_report_fast.html\")"
   ]
  },
  {
   "cell_type": "markdown",
   "id": "da33d965-b795-48e4-a3ac-e5738199f20e",
   "metadata": {},
   "source": [
    "# Remove missing values from columns which have only one missing value"
   ]
  },
  {
   "cell_type": "code",
   "execution_count": 33,
   "id": "3cd697e7-9655-49e5-b40a-40e5da02f467",
   "metadata": {},
   "outputs": [],
   "source": [
    "missing_counts = df.isnull().sum()\n",
    "df = df.dropna(subset=missing_counts[missing_counts == 1].index)\n"
   ]
  },
  {
   "cell_type": "code",
   "execution_count": 34,
   "id": "2773f10d-8cfd-4e07-becd-9646bfc4939a",
   "metadata": {},
   "outputs": [
    {
     "name": "stderr",
     "output_type": "stream",
     "text": [
      "/Users/muhammadshahzebali/myenv/lib/python3.12/site-packages/ydata_profiling/utils/dataframe.py:137: SettingWithCopyWarning: \n",
      "A value is trying to be set on a copy of a slice from a DataFrame\n",
      "\n",
      "See the caveats in the documentation: https://pandas.pydata.org/pandas-docs/stable/user_guide/indexing.html#returning-a-view-versus-a-copy\n",
      "  df.rename(columns={\"index\": \"df_index\"}, inplace=True)\n",
      "Summarize dataset:   3%| | 2/65 [00:02<00:50,  1.24it/s, Describe variable: veri\n",
      "Summarize dataset:  18%|▏| 12/65 [00:04<00:12,  4.31it/s, Describe variable: rev\u001b[A\n",
      "Summarize dataset:  20%|▏| 13/65 [00:04<00:12,  4.10it/s, Describe variable: tot\u001b[A\n",
      "Summarize dataset:  20%|▏| 13/65 [00:05<00:12,  4.10it/s, Describe variable: ini\u001b[A\n",
      "Summarize dataset:  20%|▏| 13/65 [00:05<00:12,  4.10it/s, Describe variable: ini\u001b[A\n",
      "  7%|██▉                                         | 4/60 [00:02<00:32,  1.74it/s]\u001b[A\n",
      "Summarize dataset:  28%|▎| 18/65 [00:06<00:27,  1.72it/s, Describe variable: tot\u001b[A\n",
      "Summarize dataset:  32%|▎| 21/65 [00:07<00:28,  1.53it/s, Describe variable: las\u001b[A\n",
      "Summarize dataset:  34%|▎| 22/65 [00:08<00:22,  1.89it/s, Describe variable: las\u001b[A\n",
      "Summarize dataset:  35%|▎| 23/65 [00:08<00:17,  2.41it/s, Describe variable: tot\u001b[A\n",
      "Summarize dataset:  35%|▎| 23/65 [00:09<00:17,  2.41it/s, Describe variable: tot\u001b[A\n",
      "Summarize dataset:  37%|▎| 24/65 [00:09<00:21,  1.87it/s, Describe variable: tot\u001b[A\n",
      "Summarize dataset:  52%|▌| 34/65 [00:11<00:08,  3.48it/s, Describe variable: num\u001b[A\n",
      "Summarize dataset:  58%|▌| 38/65 [00:11<00:04,  6.08it/s, Describe variable: num\u001b[A\n",
      "Summarize dataset:  62%|▌| 40/65 [00:12<00:04,  5.75it/s, Describe variable: num\u001b[A\n",
      "Summarize dataset:  66%|▋| 43/65 [00:12<00:04,  5.13it/s, Describe variable: pct\u001b[A\n",
      "Summarize dataset:  69%|▋| 45/65 [00:13<00:04,  4.37it/s, Describe variable: tot\u001b[A\n",
      "Summarize dataset:  74%|▋| 48/65 [00:13<00:02,  7.57it/s, Describe variable: har\u001b[A\n",
      "Summarize dataset:  78%|▊| 51/65 [00:14<00:01,  8.03it/s, Describe variable: deb\u001b[A\n",
      "Summarize dataset:  82%|▊| 53/65 [00:14<00:02,  4.18it/s, Describe variable: deb\u001b[A\n",
      "Summarize dataset:  82%|▊| 53/65 [00:15<00:02,  4.18it/s, Describe variable: deb\u001b[A\n",
      "Summarize dataset:  86%|▊| 56/65 [00:15<00:04,  2.13it/s, Describe variable: deb\u001b[A\n",
      "Summarize dataset:  88%|▉| 57/65 [00:15<00:03,  2.41it/s, Describe variable: deb\u001b[A\n",
      "100%|███████████████████████████████████████████| 60/60 [00:13<00:00,  4.59it/s]\u001b[A\n",
      "Summarize dataset: 100%|█████████████| 66/66 [00:15<00:00,  4.23it/s, Completed]\n",
      "Generate report structure: 100%|██████████████████| 1/1 [00:07<00:00,  7.78s/it]\n",
      "Render HTML: 100%|████████████████████████████████| 1/1 [00:00<00:00,  2.09it/s]\n",
      "Export report to file: 100%|█████████████████████| 1/1 [00:00<00:00, 291.05it/s]\n"
     ]
    }
   ],
   "source": [
    "profile = ProfileReport(\n",
    "    df,\n",
    "    title=\"second report\",\n",
    "    minimal=True,               \n",
    "    explorative=False,\n",
    "    progress_bar=True,\n",
    "    samples=None\n",
    ")\n",
    "\n",
    "profile.to_file(\"second report.html\")"
   ]
  },
  {
   "cell_type": "code",
   "execution_count": 23,
   "id": "ff0f0d46-c96e-4c8a-8339-edf07ab913f7",
   "metadata": {},
   "outputs": [],
   "source": [
    "# Try if you have more computing power\n",
    "#report = ProfileReport(df, title= \"initial report\")\n",
    "#report.to_file(\"initial report.html\")"
   ]
  },
  {
   "cell_type": "code",
   "execution_count": 25,
   "id": "7efdfce7-0cea-4385-8041-ab74dd53a75b",
   "metadata": {},
   "outputs": [
    {
     "name": "stdout",
     "output_type": "stream",
     "text": [
      "<class 'pandas.core.frame.DataFrame'>\n",
      "Index: 2260669 entries, 0 to 2260698\n",
      "Data columns (total 60 columns):\n",
      " #   Column                      Dtype  \n",
      "---  ------                      -----  \n",
      " 0   loan_amnt                   float64\n",
      " 1   funded_amnt                 float64\n",
      " 2   funded_amnt_inv             float64\n",
      " 3   term                        object \n",
      " 4   int_rate                    float64\n",
      " 5   installment                 float64\n",
      " 6   grade                       object \n",
      " 7   sub_grade                   object \n",
      " 8   home_ownership              object \n",
      " 9   annual_inc                  float64\n",
      " 10  verification_status         object \n",
      " 11  loan_status                 object \n",
      " 12  purpose                     object \n",
      " 13  addr_state                  object \n",
      " 14  dti                         float64\n",
      " 15  earliest_cr_line            object \n",
      " 16  fico_range_low              float64\n",
      " 17  fico_range_high             float64\n",
      " 18  open_acc                    float64\n",
      " 19  revol_bal                   float64\n",
      " 20  revol_util                  float64\n",
      " 21  total_acc                   float64\n",
      " 22  initial_list_status         object \n",
      " 23  total_pymnt                 float64\n",
      " 24  total_pymnt_inv             float64\n",
      " 25  total_rec_prncp             float64\n",
      " 26  total_rec_int               float64\n",
      " 27  last_pymnt_amnt             float64\n",
      " 28  last_credit_pull_d          object \n",
      " 29  last_fico_range_high        float64\n",
      " 30  last_fico_range_low         float64\n",
      " 31  application_type            object \n",
      " 32  tot_cur_bal                 float64\n",
      " 33  total_rev_hi_lim            float64\n",
      " 34  acc_open_past_24mths        float64\n",
      " 35  avg_cur_bal                 float64\n",
      " 36  bc_open_to_buy              float64\n",
      " 37  bc_util                     float64\n",
      " 38  mo_sin_old_il_acct          float64\n",
      " 39  mo_sin_old_rev_tl_op        float64\n",
      " 40  mo_sin_rcnt_rev_tl_op       float64\n",
      " 41  mo_sin_rcnt_tl              float64\n",
      " 42  mths_since_recent_bc        float64\n",
      " 43  num_actv_bc_tl              float64\n",
      " 44  num_actv_rev_tl             float64\n",
      " 45  num_bc_sats                 float64\n",
      " 46  num_bc_tl                   float64\n",
      " 47  num_il_tl                   float64\n",
      " 48  num_op_rev_tl               float64\n",
      " 49  num_rev_accts               float64\n",
      " 50  num_rev_tl_bal_gt_0         float64\n",
      " 51  num_sats                    float64\n",
      " 52  pct_tl_nvr_dlq              float64\n",
      " 53  tot_hi_cred_lim             float64\n",
      " 54  total_bal_ex_mort           float64\n",
      " 55  total_bc_limit              float64\n",
      " 56  total_il_high_credit_limit  float64\n",
      " 57  hardship_flag               object \n",
      " 58  disbursement_method         object \n",
      " 59  debt_settlement_flag        object \n",
      "dtypes: float64(45), object(15)\n",
      "memory usage: 1.1+ GB\n",
      "None\n"
     ]
    }
   ],
   "source": [
    "pd.set_option('display.max.columns', None)\n",
    "print(df.info())"
   ]
  },
  {
   "cell_type": "code",
   "execution_count": 14,
   "id": "a1c333b9-4601-434d-8b28-6f8624ad6b8d",
   "metadata": {},
   "outputs": [
    {
     "data": {
      "text/plain": [
       "0            N\n",
       "1            N\n",
       "2            N\n",
       "3            N\n",
       "4            N\n",
       "          ... \n",
       "2260696      N\n",
       "2260697      Y\n",
       "2260698      N\n",
       "2260699    NaN\n",
       "2260700    NaN\n",
       "Name: debt_settlement_flag, Length: 2260701, dtype: object"
      ]
     },
     "execution_count": 14,
     "metadata": {},
     "output_type": "execute_result"
    }
   ],
   "source": [
    "df['debt_settlement_flag']"
   ]
  },
  {
   "cell_type": "code",
   "execution_count": 15,
   "id": "d266be6b-7cba-4528-95c8-5f76b9dc29f7",
   "metadata": {
    "scrolled": true
   },
   "outputs": [
    {
     "data": {
      "text/plain": [
       "debt_settlement_flag\n",
       "N    2226422\n",
       "Y      34246\n",
       "Name: count, dtype: int64"
      ]
     },
     "execution_count": 15,
     "metadata": {},
     "output_type": "execute_result"
    }
   ],
   "source": [
    "df['debt_settlement_flag'].value_counts()"
   ]
  },
  {
   "cell_type": "code",
   "execution_count": null,
   "id": "dfeb6b4a-c78b-49b6-b9ee-b52823b797ec",
   "metadata": {},
   "outputs": [],
   "source": []
  }
 ],
 "metadata": {
  "kernelspec": {
   "display_name": "Python (ali)",
   "language": "python",
   "name": "myenv"
  },
  "language_info": {
   "codemirror_mode": {
    "name": "ipython",
    "version": 3
   },
   "file_extension": ".py",
   "mimetype": "text/x-python",
   "name": "python",
   "nbconvert_exporter": "python",
   "pygments_lexer": "ipython3",
   "version": "3.12.6"
  }
 },
 "nbformat": 4,
 "nbformat_minor": 5
}
